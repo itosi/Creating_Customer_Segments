{
 "cells": [
  {
   "cell_type": "markdown",
   "metadata": {},
   "source": [
    "# Machine Learning Engineer Nanodegree\n",
    "## Unsupervised Learning\n",
    "## Project: Creating Customer Segments"
   ]
  },
  {
   "cell_type": "markdown",
   "metadata": {},
   "source": [
    "Welcome to the third project of the Machine Learning Engineer Nanodegree! In this notebook, some template code has already been provided for you, and it will be your job to implement the additional functionality necessary to successfully complete this project. Sections that begin with **'Implementation'** in the header indicate that the following block of code will require additional functionality which you must provide. Instructions will be provided for each section and the specifics of the implementation are marked in the code block with a `'TODO'` statement. Please be sure to read the instructions carefully!\n",
    "\n",
    "In addition to implementing code, there will be questions that you must answer which relate to the project and your implementation. Each section where you will answer a question is preceded by a **'Question X'** header. Carefully read each question and provide thorough answers in the following text boxes that begin with **'Answer:'**. Your project submission will be evaluated based on your answers to each of the questions and the implementation you provide.  \n",
    "\n",
    ">**Note:** Code and Markdown cells can be executed using the **Shift + Enter** keyboard shortcut. In addition, Markdown cells can be edited by typically double-clicking the cell to enter edit mode."
   ]
  },
  {
   "cell_type": "markdown",
   "metadata": {},
   "source": [
    "## Getting Started\n",
    "\n",
    "## <mark style=\"background-color: #52BE80\"> 1. Data mining (Collect and store data)\n",
    "\n",
    "In this project, you will analyze a dataset containing data on various customers' annual spending amounts (reported in *monetary units*) of diverse product categories for internal structure. One goal of this project is to best describe the variation in the different types of customers that a wholesale distributor interacts with. Doing so would equip the distributor with insight into how to best structure their delivery service to meet the needs of each customer.\n",
    "\n",
    "The dataset for this project can be found on the [UCI Machine Learning Repository](https://archive.ics.uci.edu/ml/datasets/Wholesale+customers). For the purposes of this project, the features `'Channel'` and `'Region'` will be excluded in the analysis — with focus instead on the six product categories recorded for customers.\n",
    "\n",
    "Run the code block below to load the wholesale customers dataset, along with a few of the necessary Python libraries required for this project. You will know the dataset loaded successfully if the size of the dataset is reported."
   ]
  },
  {
   "cell_type": "code",
   "execution_count": 1,
   "metadata": {},
   "outputs": [
    {
     "name": "stdout",
     "output_type": "stream",
     "text": [
      "Wholesale customers dataset has 440 samples with 7 features each.\n"
     ]
    }
   ],
   "source": [
    "# Import libraries necessary for this project\n",
    "import numpy as np\n",
    "import pandas as pd\n",
    "from IPython.display import display, Markdown # Allows the use of display() for DataFrames\n",
    "\n",
    "# Import supplementary visualizations code visuals.py\n",
    "import visuals as vs\n",
    "\n",
    "# Pretty display for notebooks\n",
    "%matplotlib inline\n",
    "\n",
    "# Load the wholesale customers dataset\n",
    "try:\n",
    "    data = pd.read_csv(\"customers.csv\")\n",
    "    data.drop(['Region', 'Channel'], axis = 1, inplace = True)\n",
    "    \n",
    "    data.loc[:,'Total'] = data.sum(axis=1)\n",
    "    \n",
    "    \n",
    "    print(\"Wholesale customers dataset has {} samples with {} features each.\".format(*data.shape))\n",
    "except:\n",
    "    print(\"Dataset could not be loaded. Is the dataset missing?\")"
   ]
  },
  {
   "cell_type": "code",
   "execution_count": 2,
   "metadata": {},
   "outputs": [
    {
     "data": {
      "text/plain": [
       "(440, 7)"
      ]
     },
     "execution_count": 2,
     "metadata": {},
     "output_type": "execute_result"
    }
   ],
   "source": [
    "data.shape"
   ]
  },
  {
   "cell_type": "code",
   "execution_count": 3,
   "metadata": {},
   "outputs": [
    {
     "data": {
      "text/plain": [
       "array([2, 1], dtype=int64)"
      ]
     },
     "execution_count": 3,
     "metadata": {},
     "output_type": "execute_result"
    }
   ],
   "source": [
    "pd.read_csv(\"customers.csv\").Channel.unique()"
   ]
  },
  {
   "cell_type": "code",
   "execution_count": 4,
   "metadata": {},
   "outputs": [
    {
     "data": {
      "text/plain": [
       "['Fresh',\n",
       " 'Milk',\n",
       " 'Grocery',\n",
       " 'Frozen',\n",
       " 'Detergents_Paper',\n",
       " 'Delicatessen',\n",
       " 'Total']"
      ]
     },
     "execution_count": 4,
     "metadata": {},
     "output_type": "execute_result"
    }
   ],
   "source": [
    "data.keys().tolist()"
   ]
  },
  {
   "cell_type": "code",
   "execution_count": 5,
   "metadata": {},
   "outputs": [
    {
     "data": {
      "text/html": [
       "<div>\n",
       "<style scoped>\n",
       "    .dataframe tbody tr th:only-of-type {\n",
       "        vertical-align: middle;\n",
       "    }\n",
       "\n",
       "    .dataframe tbody tr th {\n",
       "        vertical-align: top;\n",
       "    }\n",
       "\n",
       "    .dataframe thead th {\n",
       "        text-align: right;\n",
       "    }\n",
       "</style>\n",
       "<table border=\"1\" class=\"dataframe\">\n",
       "  <thead>\n",
       "    <tr style=\"text-align: right;\">\n",
       "      <th></th>\n",
       "      <th>Fresh</th>\n",
       "      <th>Milk</th>\n",
       "      <th>Grocery</th>\n",
       "      <th>Frozen</th>\n",
       "      <th>Detergents_Paper</th>\n",
       "      <th>Delicatessen</th>\n",
       "      <th>Total</th>\n",
       "    </tr>\n",
       "  </thead>\n",
       "  <tbody>\n",
       "    <tr>\n",
       "      <th>0</th>\n",
       "      <td>12669</td>\n",
       "      <td>9656</td>\n",
       "      <td>7561</td>\n",
       "      <td>214</td>\n",
       "      <td>2674</td>\n",
       "      <td>1338</td>\n",
       "      <td>34112</td>\n",
       "    </tr>\n",
       "    <tr>\n",
       "      <th>1</th>\n",
       "      <td>7057</td>\n",
       "      <td>9810</td>\n",
       "      <td>9568</td>\n",
       "      <td>1762</td>\n",
       "      <td>3293</td>\n",
       "      <td>1776</td>\n",
       "      <td>33266</td>\n",
       "    </tr>\n",
       "    <tr>\n",
       "      <th>2</th>\n",
       "      <td>6353</td>\n",
       "      <td>8808</td>\n",
       "      <td>7684</td>\n",
       "      <td>2405</td>\n",
       "      <td>3516</td>\n",
       "      <td>7844</td>\n",
       "      <td>36610</td>\n",
       "    </tr>\n",
       "    <tr>\n",
       "      <th>3</th>\n",
       "      <td>13265</td>\n",
       "      <td>1196</td>\n",
       "      <td>4221</td>\n",
       "      <td>6404</td>\n",
       "      <td>507</td>\n",
       "      <td>1788</td>\n",
       "      <td>27381</td>\n",
       "    </tr>\n",
       "    <tr>\n",
       "      <th>4</th>\n",
       "      <td>22615</td>\n",
       "      <td>5410</td>\n",
       "      <td>7198</td>\n",
       "      <td>3915</td>\n",
       "      <td>1777</td>\n",
       "      <td>5185</td>\n",
       "      <td>46100</td>\n",
       "    </tr>\n",
       "  </tbody>\n",
       "</table>\n",
       "</div>"
      ],
      "text/plain": [
       "   Fresh  Milk  Grocery  Frozen  Detergents_Paper  Delicatessen  Total\n",
       "0  12669  9656     7561     214              2674          1338  34112\n",
       "1   7057  9810     9568    1762              3293          1776  33266\n",
       "2   6353  8808     7684    2405              3516          7844  36610\n",
       "3  13265  1196     4221    6404               507          1788  27381\n",
       "4  22615  5410     7198    3915              1777          5185  46100"
      ]
     },
     "execution_count": 5,
     "metadata": {},
     "output_type": "execute_result"
    }
   ],
   "source": [
    "data.head()"
   ]
  },
  {
   "cell_type": "code",
   "execution_count": 6,
   "metadata": {},
   "outputs": [
    {
     "data": {
      "text/html": [
       "<div>\n",
       "<style scoped>\n",
       "    .dataframe tbody tr th:only-of-type {\n",
       "        vertical-align: middle;\n",
       "    }\n",
       "\n",
       "    .dataframe tbody tr th {\n",
       "        vertical-align: top;\n",
       "    }\n",
       "\n",
       "    .dataframe thead th {\n",
       "        text-align: right;\n",
       "    }\n",
       "</style>\n",
       "<table border=\"1\" class=\"dataframe\">\n",
       "  <thead>\n",
       "    <tr style=\"text-align: right;\">\n",
       "      <th></th>\n",
       "      <th>Fresh</th>\n",
       "      <th>Milk</th>\n",
       "      <th>Grocery</th>\n",
       "      <th>Frozen</th>\n",
       "      <th>Detergents_Paper</th>\n",
       "      <th>Delicatessen</th>\n",
       "      <th>Total</th>\n",
       "    </tr>\n",
       "  </thead>\n",
       "  <tbody>\n",
       "    <tr>\n",
       "      <th>count</th>\n",
       "      <td>440.000000</td>\n",
       "      <td>440.000000</td>\n",
       "      <td>440.000000</td>\n",
       "      <td>440.000000</td>\n",
       "      <td>440.000000</td>\n",
       "      <td>440.000000</td>\n",
       "      <td>440.000000</td>\n",
       "    </tr>\n",
       "    <tr>\n",
       "      <th>mean</th>\n",
       "      <td>12000.297727</td>\n",
       "      <td>5796.265909</td>\n",
       "      <td>7951.277273</td>\n",
       "      <td>3071.931818</td>\n",
       "      <td>2881.493182</td>\n",
       "      <td>1524.870455</td>\n",
       "      <td>33226.136364</td>\n",
       "    </tr>\n",
       "    <tr>\n",
       "      <th>std</th>\n",
       "      <td>12647.328865</td>\n",
       "      <td>7380.377175</td>\n",
       "      <td>9503.162829</td>\n",
       "      <td>4854.673333</td>\n",
       "      <td>4767.854448</td>\n",
       "      <td>2820.105937</td>\n",
       "      <td>26356.301730</td>\n",
       "    </tr>\n",
       "    <tr>\n",
       "      <th>min</th>\n",
       "      <td>3.000000</td>\n",
       "      <td>55.000000</td>\n",
       "      <td>3.000000</td>\n",
       "      <td>25.000000</td>\n",
       "      <td>3.000000</td>\n",
       "      <td>3.000000</td>\n",
       "      <td>904.000000</td>\n",
       "    </tr>\n",
       "    <tr>\n",
       "      <th>25%</th>\n",
       "      <td>3127.750000</td>\n",
       "      <td>1533.000000</td>\n",
       "      <td>2153.000000</td>\n",
       "      <td>742.250000</td>\n",
       "      <td>256.750000</td>\n",
       "      <td>408.250000</td>\n",
       "      <td>17448.750000</td>\n",
       "    </tr>\n",
       "    <tr>\n",
       "      <th>50%</th>\n",
       "      <td>8504.000000</td>\n",
       "      <td>3627.000000</td>\n",
       "      <td>4755.500000</td>\n",
       "      <td>1526.000000</td>\n",
       "      <td>816.500000</td>\n",
       "      <td>965.500000</td>\n",
       "      <td>27492.000000</td>\n",
       "    </tr>\n",
       "    <tr>\n",
       "      <th>75%</th>\n",
       "      <td>16933.750000</td>\n",
       "      <td>7190.250000</td>\n",
       "      <td>10655.750000</td>\n",
       "      <td>3554.250000</td>\n",
       "      <td>3922.000000</td>\n",
       "      <td>1820.250000</td>\n",
       "      <td>41307.500000</td>\n",
       "    </tr>\n",
       "    <tr>\n",
       "      <th>max</th>\n",
       "      <td>112151.000000</td>\n",
       "      <td>73498.000000</td>\n",
       "      <td>92780.000000</td>\n",
       "      <td>60869.000000</td>\n",
       "      <td>40827.000000</td>\n",
       "      <td>47943.000000</td>\n",
       "      <td>199891.000000</td>\n",
       "    </tr>\n",
       "  </tbody>\n",
       "</table>\n",
       "</div>"
      ],
      "text/plain": [
       "               Fresh          Milk       Grocery        Frozen  \\\n",
       "count     440.000000    440.000000    440.000000    440.000000   \n",
       "mean    12000.297727   5796.265909   7951.277273   3071.931818   \n",
       "std     12647.328865   7380.377175   9503.162829   4854.673333   \n",
       "min         3.000000     55.000000      3.000000     25.000000   \n",
       "25%      3127.750000   1533.000000   2153.000000    742.250000   \n",
       "50%      8504.000000   3627.000000   4755.500000   1526.000000   \n",
       "75%     16933.750000   7190.250000  10655.750000   3554.250000   \n",
       "max    112151.000000  73498.000000  92780.000000  60869.000000   \n",
       "\n",
       "       Detergents_Paper  Delicatessen          Total  \n",
       "count        440.000000    440.000000     440.000000  \n",
       "mean        2881.493182   1524.870455   33226.136364  \n",
       "std         4767.854448   2820.105937   26356.301730  \n",
       "min            3.000000      3.000000     904.000000  \n",
       "25%          256.750000    408.250000   17448.750000  \n",
       "50%          816.500000    965.500000   27492.000000  \n",
       "75%         3922.000000   1820.250000   41307.500000  \n",
       "max        40827.000000  47943.000000  199891.000000  "
      ]
     },
     "metadata": {},
     "output_type": "display_data"
    }
   ],
   "source": [
    "# Display a description of the dataset\n",
    "display(data.describe())"
   ]
  },
  {
   "cell_type": "code",
   "execution_count": 7,
   "metadata": {},
   "outputs": [
    {
     "data": {
      "text/plain": [
       "(440, 7)"
      ]
     },
     "execution_count": 7,
     "metadata": {},
     "output_type": "execute_result"
    }
   ],
   "source": [
    "data.shape"
   ]
  },
  {
   "cell_type": "markdown",
   "metadata": {},
   "source": [
    "### Implementation: Selecting Samples\n",
    "To get a better understanding of the customers and how their data will transform through the analysis, it would be best to select a few sample data points and explore them in more detail. In the code block below, add **three** indices of your choice to the `indices` list which will represent the customers to track. It is suggested to try different sets of samples until you obtain customers that vary significantly from one another."
   ]
  },
  {
   "cell_type": "code",
   "execution_count": 8,
   "metadata": {},
   "outputs": [
    {
     "name": "stdout",
     "output_type": "stream",
     "text": [
      "Chosen samples of wholesale customers dataset:\n"
     ]
    },
    {
     "data": {
      "text/html": [
       "<div>\n",
       "<style scoped>\n",
       "    .dataframe tbody tr th:only-of-type {\n",
       "        vertical-align: middle;\n",
       "    }\n",
       "\n",
       "    .dataframe tbody tr th {\n",
       "        vertical-align: top;\n",
       "    }\n",
       "\n",
       "    .dataframe thead th {\n",
       "        text-align: right;\n",
       "    }\n",
       "</style>\n",
       "<table border=\"1\" class=\"dataframe\">\n",
       "  <thead>\n",
       "    <tr style=\"text-align: right;\">\n",
       "      <th></th>\n",
       "      <th>Fresh</th>\n",
       "      <th>Milk</th>\n",
       "      <th>Grocery</th>\n",
       "      <th>Frozen</th>\n",
       "      <th>Detergents_Paper</th>\n",
       "      <th>Delicatessen</th>\n",
       "      <th>Total</th>\n",
       "    </tr>\n",
       "  </thead>\n",
       "  <tbody>\n",
       "    <tr>\n",
       "      <th>0</th>\n",
       "      <td>13265</td>\n",
       "      <td>1196</td>\n",
       "      <td>4221</td>\n",
       "      <td>6404</td>\n",
       "      <td>507</td>\n",
       "      <td>1788</td>\n",
       "      <td>27381</td>\n",
       "    </tr>\n",
       "    <tr>\n",
       "      <th>1</th>\n",
       "      <td>717</td>\n",
       "      <td>3587</td>\n",
       "      <td>6532</td>\n",
       "      <td>7530</td>\n",
       "      <td>529</td>\n",
       "      <td>894</td>\n",
       "      <td>19789</td>\n",
       "    </tr>\n",
       "    <tr>\n",
       "      <th>2</th>\n",
       "      <td>4020</td>\n",
       "      <td>3234</td>\n",
       "      <td>1498</td>\n",
       "      <td>2395</td>\n",
       "      <td>264</td>\n",
       "      <td>255</td>\n",
       "      <td>11666</td>\n",
       "    </tr>\n",
       "  </tbody>\n",
       "</table>\n",
       "</div>"
      ],
      "text/plain": [
       "   Fresh  Milk  Grocery  Frozen  Detergents_Paper  Delicatessen  Total\n",
       "0  13265  1196     4221    6404               507          1788  27381\n",
       "1    717  3587     6532    7530               529           894  19789\n",
       "2   4020  3234     1498    2395               264           255  11666"
      ]
     },
     "metadata": {},
     "output_type": "display_data"
    }
   ],
   "source": [
    "# TODO: Select three indices of your choice you wish to sample from the dataset\n",
    "indices = [3, 76, 121]\n",
    "\n",
    "# Create a DataFrame of the chosen samples\n",
    "samples = pd.DataFrame(data.loc[indices], columns = data.keys()).reset_index(drop = True)\n",
    "print(\"Chosen samples of wholesale customers dataset:\")\n",
    "display(samples)"
   ]
  },
  {
   "cell_type": "code",
   "execution_count": 9,
   "metadata": {},
   "outputs": [
    {
     "data": {
      "text/html": [
       "<div>\n",
       "<style scoped>\n",
       "    .dataframe tbody tr th:only-of-type {\n",
       "        vertical-align: middle;\n",
       "    }\n",
       "\n",
       "    .dataframe tbody tr th {\n",
       "        vertical-align: top;\n",
       "    }\n",
       "\n",
       "    .dataframe thead th {\n",
       "        text-align: right;\n",
       "    }\n",
       "</style>\n",
       "<table border=\"1\" class=\"dataframe\">\n",
       "  <thead>\n",
       "    <tr style=\"text-align: right;\">\n",
       "      <th></th>\n",
       "      <th>Fresh</th>\n",
       "      <th>Milk</th>\n",
       "      <th>Grocery</th>\n",
       "      <th>Frozen</th>\n",
       "      <th>Detergents_Paper</th>\n",
       "      <th>Delicatessen</th>\n",
       "      <th>Total</th>\n",
       "    </tr>\n",
       "  </thead>\n",
       "  <tbody>\n",
       "    <tr>\n",
       "      <th>0</th>\n",
       "      <td>13265</td>\n",
       "      <td>1196</td>\n",
       "      <td>4221</td>\n",
       "      <td>6404</td>\n",
       "      <td>507</td>\n",
       "      <td>1788</td>\n",
       "      <td>27381</td>\n",
       "    </tr>\n",
       "    <tr>\n",
       "      <th>1</th>\n",
       "      <td>717</td>\n",
       "      <td>3587</td>\n",
       "      <td>6532</td>\n",
       "      <td>7530</td>\n",
       "      <td>529</td>\n",
       "      <td>894</td>\n",
       "      <td>19789</td>\n",
       "    </tr>\n",
       "    <tr>\n",
       "      <th>2</th>\n",
       "      <td>4020</td>\n",
       "      <td>3234</td>\n",
       "      <td>1498</td>\n",
       "      <td>2395</td>\n",
       "      <td>264</td>\n",
       "      <td>255</td>\n",
       "      <td>11666</td>\n",
       "    </tr>\n",
       "  </tbody>\n",
       "</table>\n",
       "</div>"
      ],
      "text/plain": [
       "   Fresh  Milk  Grocery  Frozen  Detergents_Paper  Delicatessen  Total\n",
       "0  13265  1196     4221    6404               507          1788  27381\n",
       "1    717  3587     6532    7530               529           894  19789\n",
       "2   4020  3234     1498    2395               264           255  11666"
      ]
     },
     "metadata": {},
     "output_type": "display_data"
    }
   ],
   "source": [
    "samples = pd.DataFrame(data.loc[indices]).reset_index(drop=True)\n",
    "display(samples)"
   ]
  },
  {
   "cell_type": "markdown",
   "metadata": {},
   "source": [
    "### Question 1\n",
    "Consider the total purchase cost of each product category and the statistical description of the dataset above for your sample customers.  \n",
    "\n",
    "* What kind of establishment (customer) could each of the three samples you've chosen represent?\n",
    "\n",
    "**Hint:** Examples of establishments include places like markets, cafes, delis, wholesale retailers, among many others. Avoid using names for establishments, such as saying *\"McDonalds\"* when describing a sample customer as a restaurant. You can use the mean values for reference to compare your samples with. The mean values are as follows:\n",
    "\n",
    "* Fresh: 12000.2977\n",
    "* Milk: 5796.2\n",
    "* Grocery: 3071.9\n",
    "* Detergents_paper: 2881.4\n",
    "* Delicatessen: 1524.8\n",
    "\n",
    "Knowing this, how do your samples compare? Does that help in driving your insight into what kind of establishments they might be? \n"
   ]
  },
  {
   "cell_type": "markdown",
   "metadata": {},
   "source": [
    "**Answer:**"
   ]
  },
  {
   "cell_type": "markdown",
   "metadata": {},
   "source": [
    "### Implementation: Feature Relevance\n",
    "One interesting thought to consider is if one (or more) of the six product categories is actually relevant for understanding customer purchasing. That is to say, is it possible to determine whether customers purchasing some amount of one category of products will necessarily purchase some proportional amount of another category of products? We can make this determination quite easily by training a supervised regression learner on a subset of the data with one feature removed, and then score how well that model can predict the removed feature.\n",
    "\n",
    "In the code block below, you will need to implement the following:\n",
    " - Assign `new_data` a copy of the data by removing a feature of your choice using the `DataFrame.drop` function.\n",
    " - Use `sklearn.cross_validation.train_test_split` to split the dataset into training and testing sets.\n",
    " - Use the removed feature as your target label. Set a `test_size` of `0.25` and set a `random_state`.\n",
    " - Import a decision tree regressor, set a `random_state`, and fit the learner to the training data.\n",
    " - Report the prediction score of the testing set using the regressor's `score` function."
   ]
  },
  {
   "cell_type": "code",
   "execution_count": 10,
   "metadata": {},
   "outputs": [
    {
     "data": {
      "text/html": [
       "<div>\n",
       "<style scoped>\n",
       "    .dataframe tbody tr th:only-of-type {\n",
       "        vertical-align: middle;\n",
       "    }\n",
       "\n",
       "    .dataframe tbody tr th {\n",
       "        vertical-align: top;\n",
       "    }\n",
       "\n",
       "    .dataframe thead th {\n",
       "        text-align: right;\n",
       "    }\n",
       "</style>\n",
       "<table border=\"1\" class=\"dataframe\">\n",
       "  <thead>\n",
       "    <tr style=\"text-align: right;\">\n",
       "      <th></th>\n",
       "      <th>Fresh</th>\n",
       "      <th>Milk</th>\n",
       "      <th>Grocery</th>\n",
       "      <th>Frozen</th>\n",
       "      <th>Detergents_Paper</th>\n",
       "      <th>Delicatessen</th>\n",
       "      <th>Total</th>\n",
       "    </tr>\n",
       "  </thead>\n",
       "  <tbody>\n",
       "    <tr>\n",
       "      <th>373</th>\n",
       "      <td>15076</td>\n",
       "      <td>6257</td>\n",
       "      <td>7398</td>\n",
       "      <td>1504</td>\n",
       "      <td>1916</td>\n",
       "      <td>3113</td>\n",
       "      <td>35264</td>\n",
       "    </tr>\n",
       "  </tbody>\n",
       "</table>\n",
       "</div>"
      ],
      "text/plain": [
       "     Fresh  Milk  Grocery  Frozen  Detergents_Paper  Delicatessen  Total\n",
       "373  15076  6257     7398    1504              1916          3113  35264"
      ]
     },
     "execution_count": 10,
     "metadata": {},
     "output_type": "execute_result"
    }
   ],
   "source": [
    "data.sample()"
   ]
  },
  {
   "cell_type": "code",
   "execution_count": 11,
   "metadata": {},
   "outputs": [
    {
     "data": {
      "text/html": [
       "<div>\n",
       "<style scoped>\n",
       "    .dataframe tbody tr th:only-of-type {\n",
       "        vertical-align: middle;\n",
       "    }\n",
       "\n",
       "    .dataframe tbody tr th {\n",
       "        vertical-align: top;\n",
       "    }\n",
       "\n",
       "    .dataframe thead th {\n",
       "        text-align: right;\n",
       "    }\n",
       "</style>\n",
       "<table border=\"1\" class=\"dataframe\">\n",
       "  <thead>\n",
       "    <tr style=\"text-align: right;\">\n",
       "      <th></th>\n",
       "      <th>Milk</th>\n",
       "      <th>Grocery</th>\n",
       "      <th>Frozen</th>\n",
       "      <th>Detergents_Paper</th>\n",
       "      <th>Delicatessen</th>\n",
       "      <th>Total</th>\n",
       "    </tr>\n",
       "  </thead>\n",
       "  <tbody>\n",
       "    <tr>\n",
       "      <th>333</th>\n",
       "      <td>4980</td>\n",
       "      <td>67298</td>\n",
       "      <td>131</td>\n",
       "      <td>38102</td>\n",
       "      <td>1215</td>\n",
       "      <td>120291</td>\n",
       "    </tr>\n",
       "  </tbody>\n",
       "</table>\n",
       "</div>"
      ],
      "text/plain": [
       "     Milk  Grocery  Frozen  Detergents_Paper  Delicatessen   Total\n",
       "333  4980    67298     131             38102          1215  120291"
      ]
     },
     "execution_count": 11,
     "metadata": {},
     "output_type": "execute_result"
    }
   ],
   "source": [
    "# TODO: Make a copy of the DataFrame, using the 'drop' function to drop the given feature\n",
    "new_data = data.copy()\n",
    "new_data.drop('Fresh', axis=1, inplace=True)\n",
    "new_data.sample()"
   ]
  },
  {
   "cell_type": "code",
   "execution_count": 12,
   "metadata": {},
   "outputs": [],
   "source": [
    "# TODO: Split the data into training and testing sets(0.25) using the given feature as the target\n",
    "# Set a random state.\n",
    "from sklearn.model_selection import train_test_split\n",
    "from sklearn.tree import DecisionTreeRegressor\n",
    "from sklearn.metrics import mean_squared_error\n",
    "from sklearn.metrics import r2_score\n",
    "\n"
   ]
  },
  {
   "cell_type": "code",
   "execution_count": 13,
   "metadata": {},
   "outputs": [
    {
     "name": "stdout",
     "output_type": "stream",
     "text": [
      "0.5255209761683239\n"
     ]
    }
   ],
   "source": [
    "X, y = new_data, data['Fresh']\n",
    "X_train, X_test, y_train, y_test = train_test_split(X, y, test_size=0.25, random_state=42)\n",
    "\n",
    "# TODO: Create a decision tree regressor and fit it to the training set\n",
    "regressor = DecisionTreeRegressor()\n",
    "model = regressor.fit(X_train,y_train)\n",
    "y_predict = model.predict(X_test)\n",
    "# TODO: Report the score of the prediction using the testing set\n",
    "\n",
    "score = r2_score(y_test, y_predict)\n",
    "print(score)"
   ]
  },
  {
   "cell_type": "code",
   "execution_count": 14,
   "metadata": {},
   "outputs": [],
   "source": [
    "regressor = DecisionTreeRegressor()\n",
    "model = regressor.fit(X_train,y_train)\n",
    "y_predict = model.predict(X_test)\n",
    "\n",
    "error_list=[]\n",
    "r2_list = []\n",
    "for i in new_data.columns.tolist():\n",
    "    X=new_data.drop(i, axis=1)\n",
    "    y = new_data[i]\n",
    "    X_train, X_test, y_train, y_test = train_test_split(X, y, test_size=0.25, random_state=40)\n",
    "\n",
    "    regressor = DecisionTreeRegressor()\n",
    "    model = regressor.fit(X_train,y_train)\n",
    "    y_predict = model.predict(X_test)    \n",
    "    error = round(mean_squared_error(y_test, y_predict),1)\n",
    "    r2 = round(r2_score(y_test, y_predict),1)\n",
    "    error_list.append(error)\n",
    "    r2_list.append(r2)\n",
    "    "
   ]
  },
  {
   "cell_type": "code",
   "execution_count": 15,
   "metadata": {},
   "outputs": [
    {
     "data": {
      "text/plain": [
       "([25512037.0, 25790303.5, 45833439.4, 6210672.9, 21670789.0, 312541031.5],\n",
       " [0.5, 0.8, -0.2, 0.8, -3.4, 0.5])"
      ]
     },
     "execution_count": 15,
     "metadata": {},
     "output_type": "execute_result"
    }
   ],
   "source": [
    "error_list, r2_list"
   ]
  },
  {
   "cell_type": "code",
   "execution_count": 16,
   "metadata": {},
   "outputs": [
    {
     "data": {
      "text/markdown": [
       "#### The most important feature is <font color = \"red\">Delicatessen</font>.<br> <br>The feature that would help the least is <font color = \"blue\">Grocery</font>."
      ],
      "text/plain": [
       "<IPython.core.display.Markdown object>"
      ]
     },
     "metadata": {},
     "output_type": "display_data"
    }
   ],
   "source": [
    "display(Markdown(f'#### The most important feature is <font color = \"red\">\\\n",
    "{new_data.columns.tolist()[r2_list.index(min(r2_list))]}</font>.\\\n",
    "<br> <br>\\\n",
    "The feature that would help the least is <font color = \"blue\">\\\n",
    "{new_data.columns.tolist()[r2_list.index(max(r2_list))]}</font>.'))"
   ]
  },
  {
   "cell_type": "code",
   "execution_count": 17,
   "metadata": {},
   "outputs": [
    {
     "data": {
      "text/plain": [
       "'Delicatessen'"
      ]
     },
     "execution_count": 17,
     "metadata": {},
     "output_type": "execute_result"
    }
   ],
   "source": [
    "\n",
    "new_data.columns.tolist()[r2_list.index(min(r2_list))]"
   ]
  },
  {
   "cell_type": "code",
   "execution_count": 18,
   "metadata": {},
   "outputs": [
    {
     "data": {
      "text/plain": [
       "(440, 6)"
      ]
     },
     "execution_count": 18,
     "metadata": {},
     "output_type": "execute_result"
    }
   ],
   "source": [
    "new_data.shape"
   ]
  },
  {
   "cell_type": "code",
   "execution_count": null,
   "metadata": {},
   "outputs": [],
   "source": []
  },
  {
   "cell_type": "code",
   "execution_count": null,
   "metadata": {},
   "outputs": [],
   "source": []
  },
  {
   "cell_type": "code",
   "execution_count": null,
   "metadata": {},
   "outputs": [],
   "source": []
  },
  {
   "cell_type": "code",
   "execution_count": 19,
   "metadata": {},
   "outputs": [
    {
     "data": {
      "text/plain": [
       "array([27408., 50043., 29293., 51064., 55327.])"
      ]
     },
     "execution_count": 19,
     "metadata": {},
     "output_type": "execute_result"
    }
   ],
   "source": [
    "y_predict[:5]"
   ]
  },
  {
   "cell_type": "code",
   "execution_count": 20,
   "metadata": {},
   "outputs": [
    {
     "data": {
      "text/plain": [
       "387    27559\n",
       "58     18656\n",
       "167    12167\n",
       "223    18342\n",
       "69     14044\n",
       "Name: Total, dtype: int64"
      ]
     },
     "execution_count": 20,
     "metadata": {},
     "output_type": "execute_result"
    }
   ],
   "source": [
    "y_train[:5]"
   ]
  },
  {
   "cell_type": "markdown",
   "metadata": {},
   "source": [
    "### Question 2\n",
    "\n",
    "* Which feature did you attempt to predict? \n",
    "* What was the reported prediction score? \n",
    "* Is this feature necessary for identifying customers' spending habits?\n",
    "\n",
    "**Hint:** The coefficient of determination, `R^2`, is scored between 0 and 1, with 1 being a perfect fit. A negative `R^2` implies the model fails to fit the data. If you get a low score for a particular feature, that lends us to beleive that that feature point is hard to predict using the other features, thereby making it an important feature to consider when considering relevance."
   ]
  },
  {
   "cell_type": "markdown",
   "metadata": {},
   "source": [
    "**Answer:**"
   ]
  },
  {
   "cell_type": "markdown",
   "metadata": {},
   "source": [
    "### Visualize Feature Distributions\n",
    "To get a better understanding of the dataset, we can construct a scatter matrix of each of the six product features present in the data. If you found that the feature you attempted to predict above is relevant for identifying a specific customer, then the scatter matrix below may not show any correlation between that feature and the others. Conversely, if you believe that feature is not relevant for identifying a specific customer, the scatter matrix might show a correlation between that feature and another feature in the data. Run the code block below to produce a scatter matrix."
   ]
  },
  {
   "cell_type": "code",
   "execution_count": 21,
   "metadata": {},
   "outputs": [
    {
     "data": {
      "image/png": "[encoded data removed]",
      "text/plain": [
       "<Figure size 1008x576 with 49 Axes>"
      ]
     },
     "metadata": {
      "needs_background": "light"
     },
     "output_type": "display_data"
    }
   ],
   "source": [
    "# Produce a scatter matrix for each pair of features in the data\n",
    "pd.plotting.scatter_matrix(data, alpha = 0.3, figsize = (14,8), diagonal = 'kde');"
   ]
  },
  {
   "cell_type": "markdown",
   "metadata": {},
   "source": [
    "### Question 3\n",
    "* Using the scatter matrix as a reference, discuss the distribution of the dataset, specifically talk about the normality, outliers, large number of data points near 0 among others. If you need to sepearate out some of the plots individually to further accentuate your point, you may do so as well.\n",
    "* Are there any pairs of features which exhibit some degree of correlation? \n",
    "* Does this confirm or deny your suspicions about the relevance of the feature you attempted to predict? \n",
    "* How is the data for those features distributed?\n",
    "\n",
    "**Hint:** Is the data normally distributed? Where do most of the data points lie? You can use [corr()](https://pandas.pydata.org/pandas-docs/stable/generated/pandas.DataFrame.corr.html) to get the feature correlations and then visualize them using a [heatmap](http://seaborn.pydata.org/generated/seaborn.heatmap.html) (the data that would be fed into the heatmap would be the correlation values, for eg: `data.corr()`) to gain further insight."
   ]
  },
  {
   "cell_type": "markdown",
   "metadata": {},
   "source": [
    "**Answer:** <br>\n",
    "The scatter matrix allows to visualize the relationships and interactions between pairs of variables in the dataset. <br>\n",
    "Each scatterbox shows how the variables are related to each other.\n",
    "<br><br>\n",
    "Grocery: It has a positive correlation with most of the features. Milk and Detergents_paper are the features with the most positive correlation. <br>\n",
    "\n",
    "\n",
    "Looking at the diagonal plots, all features are not normally distributed, but they are right skwewed."
   ]
  },
  {
   "cell_type": "code",
   "execution_count": 22,
   "metadata": {},
   "outputs": [
    {
     "data": {
      "text/html": [
       "<div>\n",
       "<style scoped>\n",
       "    .dataframe tbody tr th:only-of-type {\n",
       "        vertical-align: middle;\n",
       "    }\n",
       "\n",
       "    .dataframe tbody tr th {\n",
       "        vertical-align: top;\n",
       "    }\n",
       "\n",
       "    .dataframe thead th {\n",
       "        text-align: right;\n",
       "    }\n",
       "</style>\n",
       "<table border=\"1\" class=\"dataframe\">\n",
       "  <thead>\n",
       "    <tr style=\"text-align: right;\">\n",
       "      <th></th>\n",
       "      <th>Fresh</th>\n",
       "      <th>Milk</th>\n",
       "      <th>Grocery</th>\n",
       "      <th>Frozen</th>\n",
       "      <th>Detergents_Paper</th>\n",
       "      <th>Delicatessen</th>\n",
       "      <th>Total</th>\n",
       "    </tr>\n",
       "  </thead>\n",
       "  <tbody>\n",
       "    <tr>\n",
       "      <th>Fresh</th>\n",
       "      <td>1.00</td>\n",
       "      <td>0.10</td>\n",
       "      <td>-0.01</td>\n",
       "      <td>0.35</td>\n",
       "      <td>-0.10</td>\n",
       "      <td>0.24</td>\n",
       "      <td>0.58</td>\n",
       "    </tr>\n",
       "    <tr>\n",
       "      <th>Milk</th>\n",
       "      <td>0.10</td>\n",
       "      <td>1.00</td>\n",
       "      <td>0.73</td>\n",
       "      <td>0.12</td>\n",
       "      <td>0.66</td>\n",
       "      <td>0.41</td>\n",
       "      <td>0.78</td>\n",
       "    </tr>\n",
       "    <tr>\n",
       "      <th>Grocery</th>\n",
       "      <td>-0.01</td>\n",
       "      <td>0.73</td>\n",
       "      <td>1.00</td>\n",
       "      <td>-0.04</td>\n",
       "      <td>0.92</td>\n",
       "      <td>0.21</td>\n",
       "      <td>0.74</td>\n",
       "    </tr>\n",
       "    <tr>\n",
       "      <th>Frozen</th>\n",
       "      <td>0.35</td>\n",
       "      <td>0.12</td>\n",
       "      <td>-0.04</td>\n",
       "      <td>1.00</td>\n",
       "      <td>-0.13</td>\n",
       "      <td>0.39</td>\n",
       "      <td>0.39</td>\n",
       "    </tr>\n",
       "    <tr>\n",
       "      <th>Detergents_Paper</th>\n",
       "      <td>-0.10</td>\n",
       "      <td>0.66</td>\n",
       "      <td>0.92</td>\n",
       "      <td>-0.13</td>\n",
       "      <td>1.00</td>\n",
       "      <td>0.07</td>\n",
       "      <td>0.63</td>\n",
       "    </tr>\n",
       "    <tr>\n",
       "      <th>Delicatessen</th>\n",
       "      <td>0.24</td>\n",
       "      <td>0.41</td>\n",
       "      <td>0.21</td>\n",
       "      <td>0.39</td>\n",
       "      <td>0.07</td>\n",
       "      <td>1.00</td>\n",
       "      <td>0.50</td>\n",
       "    </tr>\n",
       "    <tr>\n",
       "      <th>Total</th>\n",
       "      <td>0.58</td>\n",
       "      <td>0.78</td>\n",
       "      <td>0.74</td>\n",
       "      <td>0.39</td>\n",
       "      <td>0.63</td>\n",
       "      <td>0.50</td>\n",
       "      <td>1.00</td>\n",
       "    </tr>\n",
       "  </tbody>\n",
       "</table>\n",
       "</div>"
      ],
      "text/plain": [
       "                  Fresh  Milk  Grocery  Frozen  Detergents_Paper  \\\n",
       "Fresh              1.00  0.10    -0.01    0.35             -0.10   \n",
       "Milk               0.10  1.00     0.73    0.12              0.66   \n",
       "Grocery           -0.01  0.73     1.00   -0.04              0.92   \n",
       "Frozen             0.35  0.12    -0.04    1.00             -0.13   \n",
       "Detergents_Paper  -0.10  0.66     0.92   -0.13              1.00   \n",
       "Delicatessen       0.24  0.41     0.21    0.39              0.07   \n",
       "Total              0.58  0.78     0.74    0.39              0.63   \n",
       "\n",
       "                  Delicatessen  Total  \n",
       "Fresh                     0.24   0.58  \n",
       "Milk                      0.41   0.78  \n",
       "Grocery                   0.21   0.74  \n",
       "Frozen                    0.39   0.39  \n",
       "Detergents_Paper          0.07   0.63  \n",
       "Delicatessen              1.00   0.50  \n",
       "Total                     0.50   1.00  "
      ]
     },
     "execution_count": 22,
     "metadata": {},
     "output_type": "execute_result"
    }
   ],
   "source": [
    "round(data.corr(),2)"
   ]
  },
  {
   "cell_type": "code",
   "execution_count": 23,
   "metadata": {},
   "outputs": [],
   "source": [
    "import dataframe_image as dfi\n",
    "dfi.export(round(data.corr(),2).style.background_gradient(axis=None, cmap='RdBu').format(precision=1), \n",
    "           r\"C:\\Users\\papadd\\Downloads\\scatter_mix.png\",\n",
    "           max_cols=-1,table_conversion='matplotlib')\n"
   ]
  },
  {
   "cell_type": "code",
   "execution_count": 24,
   "metadata": {},
   "outputs": [
    {
     "data": {
      "text/html": [
       "<style type=\"text/css\">\n",
       "#T_766b2_row0_col0, #T_766b2_row1_col1, #T_766b2_row2_col2, #T_766b2_row3_col3, #T_766b2_row4_col4, #T_766b2_row5_col5, #T_766b2_row6_col6 {\n",
       "  background-color: #053061;\n",
       "  color: #f1f1f1;\n",
       "}\n",
       "#T_766b2_row0_col1, #T_766b2_row1_col0 {\n",
       "  background-color: #d7634f;\n",
       "  color: #f1f1f1;\n",
       "}\n",
       "#T_766b2_row0_col2, #T_766b2_row2_col0 {\n",
       "  background-color: #b41c2d;\n",
       "  color: #f1f1f1;\n",
       "}\n",
       "#T_766b2_row0_col3, #T_766b2_row3_col0 {\n",
       "  background-color: #fce2d2;\n",
       "  color: #000000;\n",
       "}\n",
       "#T_766b2_row0_col4, #T_766b2_row4_col0 {\n",
       "  background-color: #790622;\n",
       "  color: #f1f1f1;\n",
       "}\n",
       "#T_766b2_row0_col5, #T_766b2_row5_col0 {\n",
       "  background-color: #f7b799;\n",
       "  color: #000000;\n",
       "}\n",
       "#T_766b2_row0_col6, #T_766b2_row6_col0 {\n",
       "  background-color: #c2ddec;\n",
       "  color: #000000;\n",
       "}\n",
       "#T_766b2_row1_col2, #T_766b2_row2_col1 {\n",
       "  background-color: #62a7ce;\n",
       "  color: #f1f1f1;\n",
       "}\n",
       "#T_766b2_row1_col3, #T_766b2_row3_col1 {\n",
       "  background-color: #dd7059;\n",
       "  color: #f1f1f1;\n",
       "}\n",
       "#T_766b2_row1_col4, #T_766b2_row4_col1 {\n",
       "  background-color: #90c4dd;\n",
       "  color: #000000;\n",
       "}\n",
       "#T_766b2_row1_col5, #T_766b2_row5_col1 {\n",
       "  background-color: #f9f0eb;\n",
       "  color: #000000;\n",
       "}\n",
       "#T_766b2_row1_col6, #T_766b2_row6_col1 {\n",
       "  background-color: #4291c2;\n",
       "  color: #f1f1f1;\n",
       "}\n",
       "#T_766b2_row2_col3, #T_766b2_row3_col2 {\n",
       "  background-color: #a21328;\n",
       "  color: #f1f1f1;\n",
       "}\n",
       "#T_766b2_row2_col4, #T_766b2_row4_col2 {\n",
       "  background-color: #185493;\n",
       "  color: #f1f1f1;\n",
       "}\n",
       "#T_766b2_row2_col5, #T_766b2_row5_col2 {\n",
       "  background-color: #f3a481;\n",
       "  color: #000000;\n",
       "}\n",
       "#T_766b2_row2_col6, #T_766b2_row6_col2 {\n",
       "  background-color: #59a1ca;\n",
       "  color: #f1f1f1;\n",
       "}\n",
       "#T_766b2_row3_col4, #T_766b2_row4_col3 {\n",
       "  background-color: #67001f;\n",
       "  color: #f1f1f1;\n",
       "}\n",
       "#T_766b2_row3_col5, #T_766b2_row5_col3 {\n",
       "  background-color: #f9ede5;\n",
       "  color: #000000;\n",
       "}\n",
       "#T_766b2_row3_col6, #T_766b2_row6_col3 {\n",
       "  background-color: #f9ebe3;\n",
       "  color: #000000;\n",
       "}\n",
       "#T_766b2_row4_col5, #T_766b2_row5_col4 {\n",
       "  background-color: #ce4f45;\n",
       "  color: #f1f1f1;\n",
       "}\n",
       "#T_766b2_row4_col6, #T_766b2_row6_col4 {\n",
       "  background-color: #a0cce2;\n",
       "  color: #000000;\n",
       "}\n",
       "#T_766b2_row5_col6, #T_766b2_row6_col5 {\n",
       "  background-color: #e1edf3;\n",
       "  color: #000000;\n",
       "}\n",
       "</style>\n",
       "<table id=\"T_766b2\">\n",
       "  <thead>\n",
       "    <tr>\n",
       "      <th class=\"blank level0\" >&nbsp;</th>\n",
       "      <th id=\"T_766b2_level0_col0\" class=\"col_heading level0 col0\" >Fresh</th>\n",
       "      <th id=\"T_766b2_level0_col1\" class=\"col_heading level0 col1\" >Milk</th>\n",
       "      <th id=\"T_766b2_level0_col2\" class=\"col_heading level0 col2\" >Grocery</th>\n",
       "      <th id=\"T_766b2_level0_col3\" class=\"col_heading level0 col3\" >Frozen</th>\n",
       "      <th id=\"T_766b2_level0_col4\" class=\"col_heading level0 col4\" >Detergents_Paper</th>\n",
       "      <th id=\"T_766b2_level0_col5\" class=\"col_heading level0 col5\" >Delicatessen</th>\n",
       "      <th id=\"T_766b2_level0_col6\" class=\"col_heading level0 col6\" >Total</th>\n",
       "    </tr>\n",
       "  </thead>\n",
       "  <tbody>\n",
       "    <tr>\n",
       "      <th id=\"T_766b2_level0_row0\" class=\"row_heading level0 row0\" >Fresh</th>\n",
       "      <td id=\"T_766b2_row0_col0\" class=\"data row0 col0\" >1.0</td>\n",
       "      <td id=\"T_766b2_row0_col1\" class=\"data row0 col1\" >0.1</td>\n",
       "      <td id=\"T_766b2_row0_col2\" class=\"data row0 col2\" >-0.0</td>\n",
       "      <td id=\"T_766b2_row0_col3\" class=\"data row0 col3\" >0.3</td>\n",
       "      <td id=\"T_766b2_row0_col4\" class=\"data row0 col4\" >-0.1</td>\n",
       "      <td id=\"T_766b2_row0_col5\" class=\"data row0 col5\" >0.2</td>\n",
       "      <td id=\"T_766b2_row0_col6\" class=\"data row0 col6\" >0.6</td>\n",
       "    </tr>\n",
       "    <tr>\n",
       "      <th id=\"T_766b2_level0_row1\" class=\"row_heading level0 row1\" >Milk</th>\n",
       "      <td id=\"T_766b2_row1_col0\" class=\"data row1 col0\" >0.1</td>\n",
       "      <td id=\"T_766b2_row1_col1\" class=\"data row1 col1\" >1.0</td>\n",
       "      <td id=\"T_766b2_row1_col2\" class=\"data row1 col2\" >0.7</td>\n",
       "      <td id=\"T_766b2_row1_col3\" class=\"data row1 col3\" >0.1</td>\n",
       "      <td id=\"T_766b2_row1_col4\" class=\"data row1 col4\" >0.7</td>\n",
       "      <td id=\"T_766b2_row1_col5\" class=\"data row1 col5\" >0.4</td>\n",
       "      <td id=\"T_766b2_row1_col6\" class=\"data row1 col6\" >0.8</td>\n",
       "    </tr>\n",
       "    <tr>\n",
       "      <th id=\"T_766b2_level0_row2\" class=\"row_heading level0 row2\" >Grocery</th>\n",
       "      <td id=\"T_766b2_row2_col0\" class=\"data row2 col0\" >-0.0</td>\n",
       "      <td id=\"T_766b2_row2_col1\" class=\"data row2 col1\" >0.7</td>\n",
       "      <td id=\"T_766b2_row2_col2\" class=\"data row2 col2\" >1.0</td>\n",
       "      <td id=\"T_766b2_row2_col3\" class=\"data row2 col3\" >-0.0</td>\n",
       "      <td id=\"T_766b2_row2_col4\" class=\"data row2 col4\" >0.9</td>\n",
       "      <td id=\"T_766b2_row2_col5\" class=\"data row2 col5\" >0.2</td>\n",
       "      <td id=\"T_766b2_row2_col6\" class=\"data row2 col6\" >0.7</td>\n",
       "    </tr>\n",
       "    <tr>\n",
       "      <th id=\"T_766b2_level0_row3\" class=\"row_heading level0 row3\" >Frozen</th>\n",
       "      <td id=\"T_766b2_row3_col0\" class=\"data row3 col0\" >0.3</td>\n",
       "      <td id=\"T_766b2_row3_col1\" class=\"data row3 col1\" >0.1</td>\n",
       "      <td id=\"T_766b2_row3_col2\" class=\"data row3 col2\" >-0.0</td>\n",
       "      <td id=\"T_766b2_row3_col3\" class=\"data row3 col3\" >1.0</td>\n",
       "      <td id=\"T_766b2_row3_col4\" class=\"data row3 col4\" >-0.1</td>\n",
       "      <td id=\"T_766b2_row3_col5\" class=\"data row3 col5\" >0.4</td>\n",
       "      <td id=\"T_766b2_row3_col6\" class=\"data row3 col6\" >0.4</td>\n",
       "    </tr>\n",
       "    <tr>\n",
       "      <th id=\"T_766b2_level0_row4\" class=\"row_heading level0 row4\" >Detergents_Paper</th>\n",
       "      <td id=\"T_766b2_row4_col0\" class=\"data row4 col0\" >-0.1</td>\n",
       "      <td id=\"T_766b2_row4_col1\" class=\"data row4 col1\" >0.7</td>\n",
       "      <td id=\"T_766b2_row4_col2\" class=\"data row4 col2\" >0.9</td>\n",
       "      <td id=\"T_766b2_row4_col3\" class=\"data row4 col3\" >-0.1</td>\n",
       "      <td id=\"T_766b2_row4_col4\" class=\"data row4 col4\" >1.0</td>\n",
       "      <td id=\"T_766b2_row4_col5\" class=\"data row4 col5\" >0.1</td>\n",
       "      <td id=\"T_766b2_row4_col6\" class=\"data row4 col6\" >0.6</td>\n",
       "    </tr>\n",
       "    <tr>\n",
       "      <th id=\"T_766b2_level0_row5\" class=\"row_heading level0 row5\" >Delicatessen</th>\n",
       "      <td id=\"T_766b2_row5_col0\" class=\"data row5 col0\" >0.2</td>\n",
       "      <td id=\"T_766b2_row5_col1\" class=\"data row5 col1\" >0.4</td>\n",
       "      <td id=\"T_766b2_row5_col2\" class=\"data row5 col2\" >0.2</td>\n",
       "      <td id=\"T_766b2_row5_col3\" class=\"data row5 col3\" >0.4</td>\n",
       "      <td id=\"T_766b2_row5_col4\" class=\"data row5 col4\" >0.1</td>\n",
       "      <td id=\"T_766b2_row5_col5\" class=\"data row5 col5\" >1.0</td>\n",
       "      <td id=\"T_766b2_row5_col6\" class=\"data row5 col6\" >0.5</td>\n",
       "    </tr>\n",
       "    <tr>\n",
       "      <th id=\"T_766b2_level0_row6\" class=\"row_heading level0 row6\" >Total</th>\n",
       "      <td id=\"T_766b2_row6_col0\" class=\"data row6 col0\" >0.6</td>\n",
       "      <td id=\"T_766b2_row6_col1\" class=\"data row6 col1\" >0.8</td>\n",
       "      <td id=\"T_766b2_row6_col2\" class=\"data row6 col2\" >0.7</td>\n",
       "      <td id=\"T_766b2_row6_col3\" class=\"data row6 col3\" >0.4</td>\n",
       "      <td id=\"T_766b2_row6_col4\" class=\"data row6 col4\" >0.6</td>\n",
       "      <td id=\"T_766b2_row6_col5\" class=\"data row6 col5\" >0.5</td>\n",
       "      <td id=\"T_766b2_row6_col6\" class=\"data row6 col6\" >1.0</td>\n",
       "    </tr>\n",
       "  </tbody>\n",
       "</table>\n"
      ],
      "text/plain": [
       "<pandas.io.formats.style.Styler at 0x21fe7fe6f40>"
      ]
     },
     "execution_count": 24,
     "metadata": {},
     "output_type": "execute_result"
    }
   ],
   "source": [
    "data.corr().style.background_gradient(axis=None, cmap='RdBu').format(precision=1)"
   ]
  },
  {
   "cell_type": "code",
   "execution_count": null,
   "metadata": {},
   "outputs": [],
   "source": []
  },
  {
   "cell_type": "markdown",
   "metadata": {},
   "source": [
    "## <mark style=\"background-color: #FFFF00\">Data Preprocessing\n",
    "In this section, you will preprocess the data to create a better representation of customers by performing a scaling on the data and detecting (and optionally removing) outliers. Preprocessing data is often times a critical step in assuring that results you obtain from your analysis are significant and meaningful."
   ]
  },
  {
   "cell_type": "markdown",
   "metadata": {},
   "source": [
    "### Implementation: Feature Scaling\n",
    "If data is not normally distributed, _especially if the mean and median vary significantly (indicating a large skew)_, it is most [often appropriate](http://econbrowser.com/archives/2014/02/use-of-logarithms-in-economics) to apply a **non-linear** scaling — particularly for financial data. One way to achieve this scaling is by using a [Box-Cox test](http://scipy.github.io/devdocs/generated/scipy.stats.boxcox.html), which calculates the best power transformation of the data that reduces skewness. A simpler approach which can work in most cases would be applying the natural logarithm.\n",
    "\n",
    "In the code block below, you will need to implement the following:\n",
    " - Assign a copy of the data to `log_data` after applying logarithmic scaling. Use the `np.log` function for this.\n",
    " - Assign a copy of the sample data to `log_samples` after applying logarithmic scaling. Again, use `np.log`."
   ]
  },
  {
   "cell_type": "code",
   "execution_count": null,
   "metadata": {},
   "outputs": [],
   "source": []
  },
  {
   "cell_type": "code",
   "execution_count": 25,
   "metadata": {},
   "outputs": [],
   "source": [
    "# TODO: Scale the data using the natural logarithm\n",
    "log_data = new_data.apply(lambda x: np.log(x+1))"
   ]
  },
  {
   "cell_type": "code",
   "execution_count": 26,
   "metadata": {
    "scrolled": false
   },
   "outputs": [
    {
     "data": {
      "image/png": "[encoded data removed]",
      "text/plain": [
       "<Figure size 1008x576 with 36 Axes>"
      ]
     },
     "metadata": {
      "needs_background": "light"
     },
     "output_type": "display_data"
    }
   ],
   "source": [
    "# TODO: Scale the sample data using the natural logarithm\n",
    "log_samples = new_data.sample(20).apply(lambda x: np.log(x+1))\n",
    "\n",
    "# Produce a scatter matrix for each pair of newly-transformed features\n",
    "pd.plotting.scatter_matrix(log_data, alpha = 0.3, figsize = (14,8), diagonal = 'kde');"
   ]
  },
  {
   "cell_type": "code",
   "execution_count": 27,
   "metadata": {},
   "outputs": [
    {
     "data": {
      "text/html": [
       "<style type=\"text/css\">\n",
       "#T_92d0d_row0_col0, #T_92d0d_row1_col1, #T_92d0d_row2_col2, #T_92d0d_row3_col3, #T_92d0d_row4_col4, #T_92d0d_row5_col5 {\n",
       "  background-color: #053061;\n",
       "  color: #f1f1f1;\n",
       "}\n",
       "#T_92d0d_row0_col1, #T_92d0d_row1_col0 {\n",
       "  background-color: #4291c2;\n",
       "  color: #f1f1f1;\n",
       "}\n",
       "#T_92d0d_row0_col2, #T_92d0d_row2_col0 {\n",
       "  background-color: #bd2d35;\n",
       "  color: #f1f1f1;\n",
       "}\n",
       "#T_92d0d_row0_col3, #T_92d0d_row3_col0 {\n",
       "  background-color: #75b2d4;\n",
       "  color: #f1f1f1;\n",
       "}\n",
       "#T_92d0d_row0_col4, #T_92d0d_row4_col0 {\n",
       "  background-color: #f9ebe3;\n",
       "  color: #000000;\n",
       "}\n",
       "#T_92d0d_row0_col5, #T_92d0d_row5_col0 {\n",
       "  background-color: #7bb6d6;\n",
       "  color: #000000;\n",
       "}\n",
       "#T_92d0d_row1_col2, #T_92d0d_row2_col1 {\n",
       "  background-color: #840924;\n",
       "  color: #f1f1f1;\n",
       "}\n",
       "#T_92d0d_row1_col3, #T_92d0d_row3_col1 {\n",
       "  background-color: #3783bb;\n",
       "  color: #f1f1f1;\n",
       "}\n",
       "#T_92d0d_row1_col4, #T_92d0d_row4_col1 {\n",
       "  background-color: #fbccb4;\n",
       "  color: #000000;\n",
       "}\n",
       "#T_92d0d_row1_col5, #T_92d0d_row5_col1 {\n",
       "  background-color: #8ac0db;\n",
       "  color: #000000;\n",
       "}\n",
       "#T_92d0d_row2_col3, #T_92d0d_row3_col2 {\n",
       "  background-color: #67001f;\n",
       "  color: #f1f1f1;\n",
       "}\n",
       "#T_92d0d_row2_col4, #T_92d0d_row4_col2 {\n",
       "  background-color: #fcd5bf;\n",
       "  color: #000000;\n",
       "}\n",
       "#T_92d0d_row2_col5, #T_92d0d_row5_col2 {\n",
       "  background-color: #fdd9c4;\n",
       "  color: #000000;\n",
       "}\n",
       "#T_92d0d_row3_col4, #T_92d0d_row4_col3 {\n",
       "  background-color: #f5ac8b;\n",
       "  color: #000000;\n",
       "}\n",
       "#T_92d0d_row3_col5, #T_92d0d_row5_col3 {\n",
       "  background-color: #cfe4ef;\n",
       "  color: #000000;\n",
       "}\n",
       "#T_92d0d_row4_col5, #T_92d0d_row5_col4 {\n",
       "  background-color: #eaf1f5;\n",
       "  color: #000000;\n",
       "}\n",
       "</style>\n",
       "<table id=\"T_92d0d\">\n",
       "  <thead>\n",
       "    <tr>\n",
       "      <th class=\"blank level0\" >&nbsp;</th>\n",
       "      <th id=\"T_92d0d_level0_col0\" class=\"col_heading level0 col0\" >Milk</th>\n",
       "      <th id=\"T_92d0d_level0_col1\" class=\"col_heading level0 col1\" >Grocery</th>\n",
       "      <th id=\"T_92d0d_level0_col2\" class=\"col_heading level0 col2\" >Frozen</th>\n",
       "      <th id=\"T_92d0d_level0_col3\" class=\"col_heading level0 col3\" >Detergents_Paper</th>\n",
       "      <th id=\"T_92d0d_level0_col4\" class=\"col_heading level0 col4\" >Delicatessen</th>\n",
       "      <th id=\"T_92d0d_level0_col5\" class=\"col_heading level0 col5\" >Total</th>\n",
       "    </tr>\n",
       "  </thead>\n",
       "  <tbody>\n",
       "    <tr>\n",
       "      <th id=\"T_92d0d_level0_row0\" class=\"row_heading level0 row0\" >Milk</th>\n",
       "      <td id=\"T_92d0d_row0_col0\" class=\"data row0 col0\" >1.0</td>\n",
       "      <td id=\"T_92d0d_row0_col1\" class=\"data row0 col1\" >0.8</td>\n",
       "      <td id=\"T_92d0d_row0_col2\" class=\"data row0 col2\" >-0.1</td>\n",
       "      <td id=\"T_92d0d_row0_col3\" class=\"data row0 col3\" >0.7</td>\n",
       "      <td id=\"T_92d0d_row0_col4\" class=\"data row0 col4\" >0.3</td>\n",
       "      <td id=\"T_92d0d_row0_col5\" class=\"data row0 col5\" >0.7</td>\n",
       "    </tr>\n",
       "    <tr>\n",
       "      <th id=\"T_92d0d_level0_row1\" class=\"row_heading level0 row1\" >Grocery</th>\n",
       "      <td id=\"T_92d0d_row1_col0\" class=\"data row1 col0\" >0.8</td>\n",
       "      <td id=\"T_92d0d_row1_col1\" class=\"data row1 col1\" >1.0</td>\n",
       "      <td id=\"T_92d0d_row1_col2\" class=\"data row1 col2\" >-0.2</td>\n",
       "      <td id=\"T_92d0d_row1_col3\" class=\"data row1 col3\" >0.8</td>\n",
       "      <td id=\"T_92d0d_row1_col4\" class=\"data row1 col4\" >0.2</td>\n",
       "      <td id=\"T_92d0d_row1_col5\" class=\"data row1 col5\" >0.6</td>\n",
       "    </tr>\n",
       "    <tr>\n",
       "      <th id=\"T_92d0d_level0_row2\" class=\"row_heading level0 row2\" >Frozen</th>\n",
       "      <td id=\"T_92d0d_row2_col0\" class=\"data row2 col0\" >-0.1</td>\n",
       "      <td id=\"T_92d0d_row2_col1\" class=\"data row2 col1\" >-0.2</td>\n",
       "      <td id=\"T_92d0d_row2_col2\" class=\"data row2 col2\" >1.0</td>\n",
       "      <td id=\"T_92d0d_row2_col3\" class=\"data row2 col3\" >-0.2</td>\n",
       "      <td id=\"T_92d0d_row2_col4\" class=\"data row2 col4\" >0.3</td>\n",
       "      <td id=\"T_92d0d_row2_col5\" class=\"data row2 col5\" >0.3</td>\n",
       "    </tr>\n",
       "    <tr>\n",
       "      <th id=\"T_92d0d_level0_row3\" class=\"row_heading level0 row3\" >Detergents_Paper</th>\n",
       "      <td id=\"T_92d0d_row3_col0\" class=\"data row3 col0\" >0.7</td>\n",
       "      <td id=\"T_92d0d_row3_col1\" class=\"data row3 col1\" >0.8</td>\n",
       "      <td id=\"T_92d0d_row3_col2\" class=\"data row3 col2\" >-0.2</td>\n",
       "      <td id=\"T_92d0d_row3_col3\" class=\"data row3 col3\" >1.0</td>\n",
       "      <td id=\"T_92d0d_row3_col4\" class=\"data row3 col4\" >0.2</td>\n",
       "      <td id=\"T_92d0d_row3_col5\" class=\"data row3 col5\" >0.5</td>\n",
       "    </tr>\n",
       "    <tr>\n",
       "      <th id=\"T_92d0d_level0_row4\" class=\"row_heading level0 row4\" >Delicatessen</th>\n",
       "      <td id=\"T_92d0d_row4_col0\" class=\"data row4 col0\" >0.3</td>\n",
       "      <td id=\"T_92d0d_row4_col1\" class=\"data row4 col1\" >0.2</td>\n",
       "      <td id=\"T_92d0d_row4_col2\" class=\"data row4 col2\" >0.3</td>\n",
       "      <td id=\"T_92d0d_row4_col3\" class=\"data row4 col3\" >0.2</td>\n",
       "      <td id=\"T_92d0d_row4_col4\" class=\"data row4 col4\" >1.0</td>\n",
       "      <td id=\"T_92d0d_row4_col5\" class=\"data row4 col5\" >0.4</td>\n",
       "    </tr>\n",
       "    <tr>\n",
       "      <th id=\"T_92d0d_level0_row5\" class=\"row_heading level0 row5\" >Total</th>\n",
       "      <td id=\"T_92d0d_row5_col0\" class=\"data row5 col0\" >0.7</td>\n",
       "      <td id=\"T_92d0d_row5_col1\" class=\"data row5 col1\" >0.6</td>\n",
       "      <td id=\"T_92d0d_row5_col2\" class=\"data row5 col2\" >0.3</td>\n",
       "      <td id=\"T_92d0d_row5_col3\" class=\"data row5 col3\" >0.5</td>\n",
       "      <td id=\"T_92d0d_row5_col4\" class=\"data row5 col4\" >0.4</td>\n",
       "      <td id=\"T_92d0d_row5_col5\" class=\"data row5 col5\" >1.0</td>\n",
       "    </tr>\n",
       "  </tbody>\n",
       "</table>\n"
      ],
      "text/plain": [
       "<pandas.io.formats.style.Styler at 0x21fe8edf460>"
      ]
     },
     "execution_count": 27,
     "metadata": {},
     "output_type": "execute_result"
    }
   ],
   "source": [
    "log_data.corr().style.background_gradient(axis=None, cmap='RdBu').format(precision=1)"
   ]
  },
  {
   "cell_type": "markdown",
   "metadata": {},
   "source": [
    "### Observation\n",
    "After applying a natural logarithm scaling to the data, the distribution of each feature should appear much more normal. For any pairs of features you may have identified earlier as being correlated, observe here whether that correlation is still present (and whether it is now stronger or weaker than before).\n",
    "\n",
    "Run the code below to see how the sample data has changed after having the natural logarithm applied to it."
   ]
  },
  {
   "cell_type": "code",
   "execution_count": 28,
   "metadata": {
    "scrolled": true
   },
   "outputs": [
    {
     "data": {
      "text/html": [
       "<div>\n",
       "<style scoped>\n",
       "    .dataframe tbody tr th:only-of-type {\n",
       "        vertical-align: middle;\n",
       "    }\n",
       "\n",
       "    .dataframe tbody tr th {\n",
       "        vertical-align: top;\n",
       "    }\n",
       "\n",
       "    .dataframe thead th {\n",
       "        text-align: right;\n",
       "    }\n",
       "</style>\n",
       "<table border=\"1\" class=\"dataframe\">\n",
       "  <thead>\n",
       "    <tr style=\"text-align: right;\">\n",
       "      <th></th>\n",
       "      <th>Milk</th>\n",
       "      <th>Grocery</th>\n",
       "      <th>Frozen</th>\n",
       "      <th>Detergents_Paper</th>\n",
       "      <th>Delicatessen</th>\n",
       "      <th>Total</th>\n",
       "    </tr>\n",
       "  </thead>\n",
       "  <tbody>\n",
       "    <tr>\n",
       "      <th>155</th>\n",
       "      <td>9.277158</td>\n",
       "      <td>9.876168</td>\n",
       "      <td>5.455321</td>\n",
       "      <td>9.356862</td>\n",
       "      <td>7.675082</td>\n",
       "      <td>10.738633</td>\n",
       "    </tr>\n",
       "    <tr>\n",
       "      <th>31</th>\n",
       "      <td>8.375630</td>\n",
       "      <td>8.050065</td>\n",
       "      <td>7.644441</td>\n",
       "      <td>6.710523</td>\n",
       "      <td>6.893656</td>\n",
       "      <td>9.545240</td>\n",
       "    </tr>\n",
       "    <tr>\n",
       "      <th>344</th>\n",
       "      <td>7.067320</td>\n",
       "      <td>7.475339</td>\n",
       "      <td>7.711997</td>\n",
       "      <td>5.384495</td>\n",
       "      <td>5.940171</td>\n",
       "      <td>9.083529</td>\n",
       "    </tr>\n",
       "    <tr>\n",
       "      <th>144</th>\n",
       "      <td>8.210124</td>\n",
       "      <td>7.595387</td>\n",
       "      <td>4.779123</td>\n",
       "      <td>6.248043</td>\n",
       "      <td>5.308268</td>\n",
       "      <td>10.139666</td>\n",
       "    </tr>\n",
       "    <tr>\n",
       "      <th>111</th>\n",
       "      <td>9.316051</td>\n",
       "      <td>9.773948</td>\n",
       "      <td>6.692084</td>\n",
       "      <td>8.773075</td>\n",
       "      <td>7.326466</td>\n",
       "      <td>10.820658</td>\n",
       "    </tr>\n",
       "    <tr>\n",
       "      <th>341</th>\n",
       "      <td>8.659387</td>\n",
       "      <td>9.327145</td>\n",
       "      <td>6.643790</td>\n",
       "      <td>8.549273</td>\n",
       "      <td>7.677400</td>\n",
       "      <td>10.218627</td>\n",
       "    </tr>\n",
       "    <tr>\n",
       "      <th>198</th>\n",
       "      <td>7.675546</td>\n",
       "      <td>8.828348</td>\n",
       "      <td>8.168486</td>\n",
       "      <td>6.385194</td>\n",
       "      <td>6.548219</td>\n",
       "      <td>10.145688</td>\n",
       "    </tr>\n",
       "    <tr>\n",
       "      <th>148</th>\n",
       "      <td>6.371612</td>\n",
       "      <td>6.297109</td>\n",
       "      <td>8.307213</td>\n",
       "      <td>5.648974</td>\n",
       "      <td>6.075346</td>\n",
       "      <td>9.377548</td>\n",
       "    </tr>\n",
       "    <tr>\n",
       "      <th>340</th>\n",
       "      <td>8.300529</td>\n",
       "      <td>9.176887</td>\n",
       "      <td>5.963579</td>\n",
       "      <td>8.891787</td>\n",
       "      <td>7.224025</td>\n",
       "      <td>10.047891</td>\n",
       "    </tr>\n",
       "    <tr>\n",
       "      <th>232</th>\n",
       "      <td>7.484930</td>\n",
       "      <td>8.252967</td>\n",
       "      <td>6.459904</td>\n",
       "      <td>5.652489</td>\n",
       "      <td>6.727432</td>\n",
       "      <td>10.414423</td>\n",
       "    </tr>\n",
       "    <tr>\n",
       "      <th>309</th>\n",
       "      <td>9.935761</td>\n",
       "      <td>9.515469</td>\n",
       "      <td>7.290293</td>\n",
       "      <td>8.831566</td>\n",
       "      <td>6.693324</td>\n",
       "      <td>10.697791</td>\n",
       "    </tr>\n",
       "    <tr>\n",
       "      <th>436</th>\n",
       "      <td>7.266827</td>\n",
       "      <td>6.639876</td>\n",
       "      <td>8.414274</td>\n",
       "      <td>4.543295</td>\n",
       "      <td>7.760893</td>\n",
       "      <td>10.786697</td>\n",
       "    </tr>\n",
       "    <tr>\n",
       "      <th>439</th>\n",
       "      <td>7.437795</td>\n",
       "      <td>7.828436</td>\n",
       "      <td>4.189655</td>\n",
       "      <td>6.169611</td>\n",
       "      <td>3.970292</td>\n",
       "      <td>8.934587</td>\n",
       "    </tr>\n",
       "    <tr>\n",
       "      <th>305</th>\n",
       "      <td>9.468079</td>\n",
       "      <td>9.088512</td>\n",
       "      <td>6.684612</td>\n",
       "      <td>8.271293</td>\n",
       "      <td>5.356586</td>\n",
       "      <td>10.201887</td>\n",
       "    </tr>\n",
       "    <tr>\n",
       "      <th>324</th>\n",
       "      <td>8.185350</td>\n",
       "      <td>7.809947</td>\n",
       "      <td>7.770645</td>\n",
       "      <td>4.948760</td>\n",
       "      <td>6.996681</td>\n",
       "      <td>10.480943</td>\n",
       "    </tr>\n",
       "    <tr>\n",
       "      <th>374</th>\n",
       "      <td>7.721792</td>\n",
       "      <td>7.419980</td>\n",
       "      <td>7.308543</td>\n",
       "      <td>5.743003</td>\n",
       "      <td>6.532334</td>\n",
       "      <td>9.453443</td>\n",
       "    </tr>\n",
       "    <tr>\n",
       "      <th>176</th>\n",
       "      <td>8.847791</td>\n",
       "      <td>8.785234</td>\n",
       "      <td>8.905037</td>\n",
       "      <td>7.334982</td>\n",
       "      <td>5.442418</td>\n",
       "      <td>11.131152</td>\n",
       "    </tr>\n",
       "    <tr>\n",
       "      <th>437</th>\n",
       "      <td>9.647885</td>\n",
       "      <td>10.317053</td>\n",
       "      <td>6.082219</td>\n",
       "      <td>9.605216</td>\n",
       "      <td>7.532624</td>\n",
       "      <td>11.256845</td>\n",
       "    </tr>\n",
       "    <tr>\n",
       "      <th>338</th>\n",
       "      <td>5.811141</td>\n",
       "      <td>8.856803</td>\n",
       "      <td>9.655154</td>\n",
       "      <td>2.772589</td>\n",
       "      <td>6.311735</td>\n",
       "      <td>10.065776</td>\n",
       "    </tr>\n",
       "    <tr>\n",
       "      <th>19</th>\n",
       "      <td>7.822445</td>\n",
       "      <td>9.155356</td>\n",
       "      <td>6.507278</td>\n",
       "      <td>7.831617</td>\n",
       "      <td>6.218600</td>\n",
       "      <td>10.061687</td>\n",
       "    </tr>\n",
       "  </tbody>\n",
       "</table>\n",
       "</div>"
      ],
      "text/plain": [
       "         Milk    Grocery    Frozen  Detergents_Paper  Delicatessen      Total\n",
       "155  9.277158   9.876168  5.455321          9.356862      7.675082  10.738633\n",
       "31   8.375630   8.050065  7.644441          6.710523      6.893656   9.545240\n",
       "344  7.067320   7.475339  7.711997          5.384495      5.940171   9.083529\n",
       "144  8.210124   7.595387  4.779123          6.248043      5.308268  10.139666\n",
       "111  9.316051   9.773948  6.692084          8.773075      7.326466  10.820658\n",
       "341  8.659387   9.327145  6.643790          8.549273      7.677400  10.218627\n",
       "198  7.675546   8.828348  8.168486          6.385194      6.548219  10.145688\n",
       "148  6.371612   6.297109  8.307213          5.648974      6.075346   9.377548\n",
       "340  8.300529   9.176887  5.963579          8.891787      7.224025  10.047891\n",
       "232  7.484930   8.252967  6.459904          5.652489      6.727432  10.414423\n",
       "309  9.935761   9.515469  7.290293          8.831566      6.693324  10.697791\n",
       "436  7.266827   6.639876  8.414274          4.543295      7.760893  10.786697\n",
       "439  7.437795   7.828436  4.189655          6.169611      3.970292   8.934587\n",
       "305  9.468079   9.088512  6.684612          8.271293      5.356586  10.201887\n",
       "324  8.185350   7.809947  7.770645          4.948760      6.996681  10.480943\n",
       "374  7.721792   7.419980  7.308543          5.743003      6.532334   9.453443\n",
       "176  8.847791   8.785234  8.905037          7.334982      5.442418  11.131152\n",
       "437  9.647885  10.317053  6.082219          9.605216      7.532624  11.256845\n",
       "338  5.811141   8.856803  9.655154          2.772589      6.311735  10.065776\n",
       "19   7.822445   9.155356  6.507278          7.831617      6.218600  10.061687"
      ]
     },
     "metadata": {},
     "output_type": "display_data"
    }
   ],
   "source": [
    "# Display the log-transformed sample data\n",
    "display(log_samples)"
   ]
  },
  {
   "cell_type": "markdown",
   "metadata": {},
   "source": [
    "### Implementation: Outlier Detection\n",
    "Detecting outliers in the data is extremely important in the data preprocessing step of any analysis. The presence of outliers can often skew results which take into consideration these data points. There are many \"rules of thumb\" for what constitutes an outlier in a dataset. Here, we will use [Tukey's Method for identfying outliers](https://www.kdnuggets.com/2017/01/3-methods-deal-outliers.html): An *outlier step* is calculated as 1.5 times the interquartile range (IQR). A data point with a feature that is beyond an outlier step outside of the IQR for that feature is considered abnormal.\n",
    "\n",
    "In the code block below, you will need to implement the following:\n",
    " - Assign the value of the 25th percentile for the given feature to `Q1`. Use `np.percentile` for this.\n",
    " - Assign the value of the 75th percentile for the given feature to `Q3`. Again, use `np.percentile`.\n",
    " - Assign the calculation of an outlier step for the given feature to `step`.\n",
    " - Optionally remove data points from the dataset by adding indices to the `outliers` list.\n",
    "\n",
    "**NOTE:** If you choose to remove any outliers, ensure that the sample data does not contain any of these points!  \n",
    "Once you have performed this implementation, the dataset will be stored in the variable `good_data`."
   ]
  },
  {
   "cell_type": "code",
   "execution_count": 29,
   "metadata": {},
   "outputs": [
    {
     "name": "stdout",
     "output_type": "stream",
     "text": [
      "Data points considered outliers for the feature 'Milk':\n"
     ]
    },
    {
     "data": {
      "text/html": [
       "<div>\n",
       "<style scoped>\n",
       "    .dataframe tbody tr th:only-of-type {\n",
       "        vertical-align: middle;\n",
       "    }\n",
       "\n",
       "    .dataframe tbody tr th {\n",
       "        vertical-align: top;\n",
       "    }\n",
       "\n",
       "    .dataframe thead th {\n",
       "        text-align: right;\n",
       "    }\n",
       "</style>\n",
       "<table border=\"1\" class=\"dataframe\">\n",
       "  <thead>\n",
       "    <tr style=\"text-align: right;\">\n",
       "      <th></th>\n",
       "      <th>Milk</th>\n",
       "      <th>Grocery</th>\n",
       "      <th>Frozen</th>\n",
       "      <th>Detergents_Paper</th>\n",
       "      <th>Delicatessen</th>\n",
       "      <th>Total</th>\n",
       "    </tr>\n",
       "  </thead>\n",
       "  <tbody>\n",
       "    <tr>\n",
       "      <th>86</th>\n",
       "      <td>11.205027</td>\n",
       "      <td>10.377078</td>\n",
       "      <td>6.895683</td>\n",
       "      <td>9.907031</td>\n",
       "      <td>6.806829</td>\n",
       "      <td>11.921705</td>\n",
       "    </tr>\n",
       "    <tr>\n",
       "      <th>98</th>\n",
       "      <td>4.727388</td>\n",
       "      <td>6.658011</td>\n",
       "      <td>6.797940</td>\n",
       "      <td>4.043051</td>\n",
       "      <td>4.890349</td>\n",
       "      <td>7.814803</td>\n",
       "    </tr>\n",
       "    <tr>\n",
       "      <th>154</th>\n",
       "      <td>4.025352</td>\n",
       "      <td>4.927254</td>\n",
       "      <td>4.330733</td>\n",
       "      <td>2.079442</td>\n",
       "      <td>2.197225</td>\n",
       "      <td>6.807935</td>\n",
       "    </tr>\n",
       "    <tr>\n",
       "      <th>356</th>\n",
       "      <td>4.905275</td>\n",
       "      <td>5.389072</td>\n",
       "      <td>8.057694</td>\n",
       "      <td>2.302585</td>\n",
       "      <td>6.308098</td>\n",
       "      <td>10.194402</td>\n",
       "    </tr>\n",
       "  </tbody>\n",
       "</table>\n",
       "</div>"
      ],
      "text/plain": [
       "          Milk    Grocery    Frozen  Detergents_Paper  Delicatessen      Total\n",
       "86   11.205027  10.377078  6.895683          9.907031      6.806829  11.921705\n",
       "98    4.727388   6.658011  6.797940          4.043051      4.890349   7.814803\n",
       "154   4.025352   4.927254  4.330733          2.079442      2.197225   6.807935\n",
       "356   4.905275   5.389072  8.057694          2.302585      6.308098  10.194402"
      ]
     },
     "metadata": {},
     "output_type": "display_data"
    },
    {
     "name": "stdout",
     "output_type": "stream",
     "text": [
      "Data points considered outliers for the feature 'Grocery':\n"
     ]
    },
    {
     "data": {
      "text/html": [
       "<div>\n",
       "<style scoped>\n",
       "    .dataframe tbody tr th:only-of-type {\n",
       "        vertical-align: middle;\n",
       "    }\n",
       "\n",
       "    .dataframe tbody tr th {\n",
       "        vertical-align: top;\n",
       "    }\n",
       "\n",
       "    .dataframe thead th {\n",
       "        text-align: right;\n",
       "    }\n",
       "</style>\n",
       "<table border=\"1\" class=\"dataframe\">\n",
       "  <thead>\n",
       "    <tr style=\"text-align: right;\">\n",
       "      <th></th>\n",
       "      <th>Milk</th>\n",
       "      <th>Grocery</th>\n",
       "      <th>Frozen</th>\n",
       "      <th>Detergents_Paper</th>\n",
       "      <th>Delicatessen</th>\n",
       "      <th>Total</th>\n",
       "    </tr>\n",
       "  </thead>\n",
       "  <tbody>\n",
       "    <tr>\n",
       "      <th>75</th>\n",
       "      <td>7.037028</td>\n",
       "      <td>1.386294</td>\n",
       "      <td>8.391176</td>\n",
       "      <td>1.386294</td>\n",
       "      <td>6.883463</td>\n",
       "      <td>10.200773</td>\n",
       "    </tr>\n",
       "    <tr>\n",
       "      <th>154</th>\n",
       "      <td>4.025352</td>\n",
       "      <td>4.927254</td>\n",
       "      <td>4.330733</td>\n",
       "      <td>2.079442</td>\n",
       "      <td>2.197225</td>\n",
       "      <td>6.807935</td>\n",
       "    </tr>\n",
       "  </tbody>\n",
       "</table>\n",
       "</div>"
      ],
      "text/plain": [
       "         Milk   Grocery    Frozen  Detergents_Paper  Delicatessen      Total\n",
       "75   7.037028  1.386294  8.391176          1.386294      6.883463  10.200773\n",
       "154  4.025352  4.927254  4.330733          2.079442      2.197225   6.807935"
      ]
     },
     "metadata": {},
     "output_type": "display_data"
    },
    {
     "name": "stdout",
     "output_type": "stream",
     "text": [
      "Data points considered outliers for the feature 'Frozen':\n"
     ]
    },
    {
     "data": {
      "text/html": [
       "<div>\n",
       "<style scoped>\n",
       "    .dataframe tbody tr th:only-of-type {\n",
       "        vertical-align: middle;\n",
       "    }\n",
       "\n",
       "    .dataframe tbody tr th {\n",
       "        vertical-align: top;\n",
       "    }\n",
       "\n",
       "    .dataframe thead th {\n",
       "        text-align: right;\n",
       "    }\n",
       "</style>\n",
       "<table border=\"1\" class=\"dataframe\">\n",
       "  <thead>\n",
       "    <tr style=\"text-align: right;\">\n",
       "      <th></th>\n",
       "      <th>Milk</th>\n",
       "      <th>Grocery</th>\n",
       "      <th>Frozen</th>\n",
       "      <th>Detergents_Paper</th>\n",
       "      <th>Delicatessen</th>\n",
       "      <th>Total</th>\n",
       "    </tr>\n",
       "  </thead>\n",
       "  <tbody>\n",
       "    <tr>\n",
       "      <th>38</th>\n",
       "      <td>9.663325</td>\n",
       "      <td>9.723763</td>\n",
       "      <td>3.526361</td>\n",
       "      <td>8.847504</td>\n",
       "      <td>6.073045</td>\n",
       "      <td>10.702165</td>\n",
       "    </tr>\n",
       "    <tr>\n",
       "      <th>57</th>\n",
       "      <td>9.203718</td>\n",
       "      <td>9.257987</td>\n",
       "      <td>3.663562</td>\n",
       "      <td>8.932345</td>\n",
       "      <td>7.156956</td>\n",
       "      <td>10.455359</td>\n",
       "    </tr>\n",
       "    <tr>\n",
       "      <th>65</th>\n",
       "      <td>9.950371</td>\n",
       "      <td>10.732672</td>\n",
       "      <td>3.610918</td>\n",
       "      <td>10.095429</td>\n",
       "      <td>7.261225</td>\n",
       "      <td>11.435645</td>\n",
       "    </tr>\n",
       "    <tr>\n",
       "      <th>145</th>\n",
       "      <td>9.034200</td>\n",
       "      <td>10.457171</td>\n",
       "      <td>3.761200</td>\n",
       "      <td>9.440817</td>\n",
       "      <td>8.396381</td>\n",
       "      <td>11.317871</td>\n",
       "    </tr>\n",
       "    <tr>\n",
       "      <th>175</th>\n",
       "      <td>8.967759</td>\n",
       "      <td>9.382191</td>\n",
       "      <td>3.970292</td>\n",
       "      <td>8.342125</td>\n",
       "      <td>7.437206</td>\n",
       "      <td>10.240245</td>\n",
       "    </tr>\n",
       "    <tr>\n",
       "      <th>264</th>\n",
       "      <td>9.177817</td>\n",
       "      <td>9.645105</td>\n",
       "      <td>4.127134</td>\n",
       "      <td>8.696343</td>\n",
       "      <td>7.143618</td>\n",
       "      <td>10.419420</td>\n",
       "    </tr>\n",
       "    <tr>\n",
       "      <th>325</th>\n",
       "      <td>9.728241</td>\n",
       "      <td>9.519808</td>\n",
       "      <td>11.016496</td>\n",
       "      <td>7.149132</td>\n",
       "      <td>8.632306</td>\n",
       "      <td>11.782021</td>\n",
       "    </tr>\n",
       "    <tr>\n",
       "      <th>420</th>\n",
       "      <td>8.569216</td>\n",
       "      <td>9.490091</td>\n",
       "      <td>3.258097</td>\n",
       "      <td>8.827468</td>\n",
       "      <td>7.239933</td>\n",
       "      <td>10.347725</td>\n",
       "    </tr>\n",
       "    <tr>\n",
       "      <th>429</th>\n",
       "      <td>7.467942</td>\n",
       "      <td>8.183397</td>\n",
       "      <td>3.871201</td>\n",
       "      <td>4.442651</td>\n",
       "      <td>7.824846</td>\n",
       "      <td>9.715349</td>\n",
       "    </tr>\n",
       "    <tr>\n",
       "      <th>439</th>\n",
       "      <td>7.437795</td>\n",
       "      <td>7.828436</td>\n",
       "      <td>4.189655</td>\n",
       "      <td>6.169611</td>\n",
       "      <td>3.970292</td>\n",
       "      <td>8.934587</td>\n",
       "    </tr>\n",
       "  </tbody>\n",
       "</table>\n",
       "</div>"
      ],
      "text/plain": [
       "         Milk    Grocery     Frozen  Detergents_Paper  Delicatessen      Total\n",
       "38   9.663325   9.723763   3.526361          8.847504      6.073045  10.702165\n",
       "57   9.203718   9.257987   3.663562          8.932345      7.156956  10.455359\n",
       "65   9.950371  10.732672   3.610918         10.095429      7.261225  11.435645\n",
       "145  9.034200  10.457171   3.761200          9.440817      8.396381  11.317871\n",
       "175  8.967759   9.382191   3.970292          8.342125      7.437206  10.240245\n",
       "264  9.177817   9.645105   4.127134          8.696343      7.143618  10.419420\n",
       "325  9.728241   9.519808  11.016496          7.149132      8.632306  11.782021\n",
       "420  8.569216   9.490091   3.258097          8.827468      7.239933  10.347725\n",
       "429  7.467942   8.183397   3.871201          4.442651      7.824846   9.715349\n",
       "439  7.437795   7.828436   4.189655          6.169611      3.970292   8.934587"
      ]
     },
     "metadata": {},
     "output_type": "display_data"
    },
    {
     "name": "stdout",
     "output_type": "stream",
     "text": [
      "Data points considered outliers for the feature 'Detergents_Paper':\n"
     ]
    },
    {
     "data": {
      "text/html": [
       "<div>\n",
       "<style scoped>\n",
       "    .dataframe tbody tr th:only-of-type {\n",
       "        vertical-align: middle;\n",
       "    }\n",
       "\n",
       "    .dataframe tbody tr th {\n",
       "        vertical-align: top;\n",
       "    }\n",
       "\n",
       "    .dataframe thead th {\n",
       "        text-align: right;\n",
       "    }\n",
       "</style>\n",
       "<table border=\"1\" class=\"dataframe\">\n",
       "  <thead>\n",
       "    <tr style=\"text-align: right;\">\n",
       "      <th></th>\n",
       "      <th>Milk</th>\n",
       "      <th>Grocery</th>\n",
       "      <th>Frozen</th>\n",
       "      <th>Detergents_Paper</th>\n",
       "      <th>Delicatessen</th>\n",
       "      <th>Total</th>\n",
       "    </tr>\n",
       "  </thead>\n",
       "  <tbody>\n",
       "    <tr>\n",
       "      <th>75</th>\n",
       "      <td>7.037028</td>\n",
       "      <td>1.386294</td>\n",
       "      <td>8.391176</td>\n",
       "      <td>1.386294</td>\n",
       "      <td>6.883463</td>\n",
       "      <td>10.200773</td>\n",
       "    </tr>\n",
       "    <tr>\n",
       "      <th>161</th>\n",
       "      <td>6.293419</td>\n",
       "      <td>5.648974</td>\n",
       "      <td>6.996681</td>\n",
       "      <td>1.386294</td>\n",
       "      <td>7.711549</td>\n",
       "      <td>9.716314</td>\n",
       "    </tr>\n",
       "  </tbody>\n",
       "</table>\n",
       "</div>"
      ],
      "text/plain": [
       "         Milk   Grocery    Frozen  Detergents_Paper  Delicatessen      Total\n",
       "75   7.037028  1.386294  8.391176          1.386294      6.883463  10.200773\n",
       "161  6.293419  5.648974  6.996681          1.386294      7.711549   9.716314"
      ]
     },
     "metadata": {},
     "output_type": "display_data"
    },
    {
     "name": "stdout",
     "output_type": "stream",
     "text": [
      "Data points considered outliers for the feature 'Delicatessen':\n"
     ]
    },
    {
     "data": {
      "text/html": [
       "<div>\n",
       "<style scoped>\n",
       "    .dataframe tbody tr th:only-of-type {\n",
       "        vertical-align: middle;\n",
       "    }\n",
       "\n",
       "    .dataframe tbody tr th {\n",
       "        vertical-align: top;\n",
       "    }\n",
       "\n",
       "    .dataframe thead th {\n",
       "        text-align: right;\n",
       "    }\n",
       "</style>\n",
       "<table border=\"1\" class=\"dataframe\">\n",
       "  <thead>\n",
       "    <tr style=\"text-align: right;\">\n",
       "      <th></th>\n",
       "      <th>Milk</th>\n",
       "      <th>Grocery</th>\n",
       "      <th>Frozen</th>\n",
       "      <th>Detergents_Paper</th>\n",
       "      <th>Delicatessen</th>\n",
       "      <th>Total</th>\n",
       "    </tr>\n",
       "  </thead>\n",
       "  <tbody>\n",
       "    <tr>\n",
       "      <th>66</th>\n",
       "      <td>7.336286</td>\n",
       "      <td>8.911665</td>\n",
       "      <td>5.170484</td>\n",
       "      <td>8.151622</td>\n",
       "      <td>3.332205</td>\n",
       "      <td>9.443909</td>\n",
       "    </tr>\n",
       "    <tr>\n",
       "      <th>109</th>\n",
       "      <td>9.724959</td>\n",
       "      <td>10.274603</td>\n",
       "      <td>6.513230</td>\n",
       "      <td>6.729824</td>\n",
       "      <td>1.386294</td>\n",
       "      <td>10.792078</td>\n",
       "    </tr>\n",
       "    <tr>\n",
       "      <th>128</th>\n",
       "      <td>9.087947</td>\n",
       "      <td>8.249052</td>\n",
       "      <td>4.962845</td>\n",
       "      <td>6.968850</td>\n",
       "      <td>1.386294</td>\n",
       "      <td>9.548097</td>\n",
       "    </tr>\n",
       "    <tr>\n",
       "      <th>137</th>\n",
       "      <td>8.997271</td>\n",
       "      <td>9.021961</td>\n",
       "      <td>6.495266</td>\n",
       "      <td>6.582025</td>\n",
       "      <td>3.610918</td>\n",
       "      <td>9.945972</td>\n",
       "    </tr>\n",
       "    <tr>\n",
       "      <th>142</th>\n",
       "      <td>8.875287</td>\n",
       "      <td>9.018453</td>\n",
       "      <td>8.005033</td>\n",
       "      <td>3.044522</td>\n",
       "      <td>1.386294</td>\n",
       "      <td>10.923417</td>\n",
       "    </tr>\n",
       "    <tr>\n",
       "      <th>154</th>\n",
       "      <td>4.025352</td>\n",
       "      <td>4.927254</td>\n",
       "      <td>4.330733</td>\n",
       "      <td>2.079442</td>\n",
       "      <td>2.197225</td>\n",
       "      <td>6.807935</td>\n",
       "    </tr>\n",
       "    <tr>\n",
       "      <th>183</th>\n",
       "      <td>10.690831</td>\n",
       "      <td>9.912001</td>\n",
       "      <td>10.506026</td>\n",
       "      <td>5.480639</td>\n",
       "      <td>10.777789</td>\n",
       "      <td>12.131802</td>\n",
       "    </tr>\n",
       "    <tr>\n",
       "      <th>184</th>\n",
       "      <td>6.823286</td>\n",
       "      <td>8.457655</td>\n",
       "      <td>4.317488</td>\n",
       "      <td>5.814131</td>\n",
       "      <td>2.484907</td>\n",
       "      <td>8.760139</td>\n",
       "    </tr>\n",
       "    <tr>\n",
       "      <th>187</th>\n",
       "      <td>8.987572</td>\n",
       "      <td>9.192176</td>\n",
       "      <td>8.743532</td>\n",
       "      <td>8.149024</td>\n",
       "      <td>1.386294</td>\n",
       "      <td>10.308653</td>\n",
       "    </tr>\n",
       "    <tr>\n",
       "      <th>203</th>\n",
       "      <td>6.530878</td>\n",
       "      <td>7.703910</td>\n",
       "      <td>6.152733</td>\n",
       "      <td>6.861711</td>\n",
       "      <td>2.944439</td>\n",
       "      <td>8.502283</td>\n",
       "    </tr>\n",
       "    <tr>\n",
       "      <th>233</th>\n",
       "      <td>8.514189</td>\n",
       "      <td>8.106816</td>\n",
       "      <td>6.843750</td>\n",
       "      <td>6.016157</td>\n",
       "      <td>2.079442</td>\n",
       "      <td>9.270306</td>\n",
       "    </tr>\n",
       "    <tr>\n",
       "      <th>285</th>\n",
       "      <td>6.463029</td>\n",
       "      <td>8.188967</td>\n",
       "      <td>6.949856</td>\n",
       "      <td>6.079933</td>\n",
       "      <td>2.944439</td>\n",
       "      <td>10.736201</td>\n",
       "    </tr>\n",
       "    <tr>\n",
       "      <th>289</th>\n",
       "      <td>5.659482</td>\n",
       "      <td>6.156979</td>\n",
       "      <td>7.236339</td>\n",
       "      <td>3.496508</td>\n",
       "      <td>3.135494</td>\n",
       "      <td>10.714107</td>\n",
       "    </tr>\n",
       "    <tr>\n",
       "      <th>343</th>\n",
       "      <td>8.848653</td>\n",
       "      <td>10.177970</td>\n",
       "      <td>7.284135</td>\n",
       "      <td>9.646658</td>\n",
       "      <td>3.637586</td>\n",
       "      <td>10.857690</td>\n",
       "    </tr>\n",
       "  </tbody>\n",
       "</table>\n",
       "</div>"
      ],
      "text/plain": [
       "          Milk    Grocery     Frozen  Detergents_Paper  Delicatessen  \\\n",
       "66    7.336286   8.911665   5.170484          8.151622      3.332205   \n",
       "109   9.724959  10.274603   6.513230          6.729824      1.386294   \n",
       "128   9.087947   8.249052   4.962845          6.968850      1.386294   \n",
       "137   8.997271   9.021961   6.495266          6.582025      3.610918   \n",
       "142   8.875287   9.018453   8.005033          3.044522      1.386294   \n",
       "154   4.025352   4.927254   4.330733          2.079442      2.197225   \n",
       "183  10.690831   9.912001  10.506026          5.480639     10.777789   \n",
       "184   6.823286   8.457655   4.317488          5.814131      2.484907   \n",
       "187   8.987572   9.192176   8.743532          8.149024      1.386294   \n",
       "203   6.530878   7.703910   6.152733          6.861711      2.944439   \n",
       "233   8.514189   8.106816   6.843750          6.016157      2.079442   \n",
       "285   6.463029   8.188967   6.949856          6.079933      2.944439   \n",
       "289   5.659482   6.156979   7.236339          3.496508      3.135494   \n",
       "343   8.848653  10.177970   7.284135          9.646658      3.637586   \n",
       "\n",
       "         Total  \n",
       "66    9.443909  \n",
       "109  10.792078  \n",
       "128   9.548097  \n",
       "137   9.945972  \n",
       "142  10.923417  \n",
       "154   6.807935  \n",
       "183  12.131802  \n",
       "184   8.760139  \n",
       "187  10.308653  \n",
       "203   8.502283  \n",
       "233   9.270306  \n",
       "285  10.736201  \n",
       "289  10.714107  \n",
       "343  10.857690  "
      ]
     },
     "metadata": {},
     "output_type": "display_data"
    },
    {
     "name": "stdout",
     "output_type": "stream",
     "text": [
      "Data points considered outliers for the feature 'Total':\n"
     ]
    },
    {
     "data": {
      "text/html": [
       "<div>\n",
       "<style scoped>\n",
       "    .dataframe tbody tr th:only-of-type {\n",
       "        vertical-align: middle;\n",
       "    }\n",
       "\n",
       "    .dataframe tbody tr th {\n",
       "        vertical-align: top;\n",
       "    }\n",
       "\n",
       "    .dataframe thead th {\n",
       "        text-align: right;\n",
       "    }\n",
       "</style>\n",
       "<table border=\"1\" class=\"dataframe\">\n",
       "  <thead>\n",
       "    <tr style=\"text-align: right;\">\n",
       "      <th></th>\n",
       "      <th>Milk</th>\n",
       "      <th>Grocery</th>\n",
       "      <th>Frozen</th>\n",
       "      <th>Detergents_Paper</th>\n",
       "      <th>Delicatessen</th>\n",
       "      <th>Total</th>\n",
       "    </tr>\n",
       "  </thead>\n",
       "  <tbody>\n",
       "    <tr>\n",
       "      <th>47</th>\n",
       "      <td>10.901543</td>\n",
       "      <td>10.925435</td>\n",
       "      <td>8.959697</td>\n",
       "      <td>10.092950</td>\n",
       "      <td>8.774313</td>\n",
       "      <td>12.168968</td>\n",
       "    </tr>\n",
       "    <tr>\n",
       "      <th>61</th>\n",
       "      <td>10.555031</td>\n",
       "      <td>10.995394</td>\n",
       "      <td>8.087948</td>\n",
       "      <td>10.192494</td>\n",
       "      <td>7.609862</td>\n",
       "      <td>12.019032</td>\n",
       "    </tr>\n",
       "    <tr>\n",
       "      <th>85</th>\n",
       "      <td>10.740692</td>\n",
       "      <td>11.437997</td>\n",
       "      <td>6.934397</td>\n",
       "      <td>10.617123</td>\n",
       "      <td>7.987864</td>\n",
       "      <td>12.205532</td>\n",
       "    </tr>\n",
       "    <tr>\n",
       "      <th>86</th>\n",
       "      <td>11.205027</td>\n",
       "      <td>10.377078</td>\n",
       "      <td>6.895683</td>\n",
       "      <td>9.907031</td>\n",
       "      <td>6.806829</td>\n",
       "      <td>11.921705</td>\n",
       "    </tr>\n",
       "    <tr>\n",
       "      <th>97</th>\n",
       "      <td>5.541264</td>\n",
       "      <td>6.415097</td>\n",
       "      <td>6.652863</td>\n",
       "      <td>4.007333</td>\n",
       "      <td>4.158883</td>\n",
       "      <td>7.677400</td>\n",
       "    </tr>\n",
       "    <tr>\n",
       "      <th>98</th>\n",
       "      <td>4.727388</td>\n",
       "      <td>6.658011</td>\n",
       "      <td>6.797940</td>\n",
       "      <td>4.043051</td>\n",
       "      <td>4.890349</td>\n",
       "      <td>7.814803</td>\n",
       "    </tr>\n",
       "    <tr>\n",
       "      <th>131</th>\n",
       "      <td>6.380123</td>\n",
       "      <td>5.752573</td>\n",
       "      <td>5.849325</td>\n",
       "      <td>4.262680</td>\n",
       "      <td>5.739793</td>\n",
       "      <td>8.224432</td>\n",
       "    </tr>\n",
       "    <tr>\n",
       "      <th>154</th>\n",
       "      <td>4.025352</td>\n",
       "      <td>4.927254</td>\n",
       "      <td>4.330733</td>\n",
       "      <td>2.079442</td>\n",
       "      <td>2.197225</td>\n",
       "      <td>6.807935</td>\n",
       "    </tr>\n",
       "    <tr>\n",
       "      <th>181</th>\n",
       "      <td>10.296475</td>\n",
       "      <td>9.806371</td>\n",
       "      <td>9.725915</td>\n",
       "      <td>8.506941</td>\n",
       "      <td>9.053804</td>\n",
       "      <td>12.155674</td>\n",
       "    </tr>\n",
       "    <tr>\n",
       "      <th>183</th>\n",
       "      <td>10.690831</td>\n",
       "      <td>9.912001</td>\n",
       "      <td>10.506026</td>\n",
       "      <td>5.480639</td>\n",
       "      <td>10.777789</td>\n",
       "      <td>12.131802</td>\n",
       "    </tr>\n",
       "    <tr>\n",
       "      <th>275</th>\n",
       "      <td>7.384610</td>\n",
       "      <td>5.411646</td>\n",
       "      <td>6.760415</td>\n",
       "      <td>4.574711</td>\n",
       "      <td>5.940171</td>\n",
       "      <td>8.256088</td>\n",
       "    </tr>\n",
       "    <tr>\n",
       "      <th>299</th>\n",
       "      <td>6.779922</td>\n",
       "      <td>7.630947</td>\n",
       "      <td>5.579730</td>\n",
       "      <td>5.673323</td>\n",
       "      <td>5.560682</td>\n",
       "      <td>8.342125</td>\n",
       "    </tr>\n",
       "    <tr>\n",
       "      <th>327</th>\n",
       "      <td>6.802395</td>\n",
       "      <td>7.417580</td>\n",
       "      <td>6.028279</td>\n",
       "      <td>4.488636</td>\n",
       "      <td>6.259581</td>\n",
       "      <td>8.326033</td>\n",
       "    </tr>\n",
       "    <tr>\n",
       "      <th>352</th>\n",
       "      <td>7.009409</td>\n",
       "      <td>7.335634</td>\n",
       "      <td>6.722630</td>\n",
       "      <td>4.510860</td>\n",
       "      <td>5.278115</td>\n",
       "      <td>8.380915</td>\n",
       "    </tr>\n",
       "    <tr>\n",
       "      <th>355</th>\n",
       "      <td>6.590301</td>\n",
       "      <td>7.607381</td>\n",
       "      <td>5.505332</td>\n",
       "      <td>5.220356</td>\n",
       "      <td>4.852030</td>\n",
       "      <td>8.156510</td>\n",
       "    </tr>\n",
       "  </tbody>\n",
       "</table>\n",
       "</div>"
      ],
      "text/plain": [
       "          Milk    Grocery     Frozen  Detergents_Paper  Delicatessen  \\\n",
       "47   10.901543  10.925435   8.959697         10.092950      8.774313   \n",
       "61   10.555031  10.995394   8.087948         10.192494      7.609862   \n",
       "85   10.740692  11.437997   6.934397         10.617123      7.987864   \n",
       "86   11.205027  10.377078   6.895683          9.907031      6.806829   \n",
       "97    5.541264   6.415097   6.652863          4.007333      4.158883   \n",
       "98    4.727388   6.658011   6.797940          4.043051      4.890349   \n",
       "131   6.380123   5.752573   5.849325          4.262680      5.739793   \n",
       "154   4.025352   4.927254   4.330733          2.079442      2.197225   \n",
       "181  10.296475   9.806371   9.725915          8.506941      9.053804   \n",
       "183  10.690831   9.912001  10.506026          5.480639     10.777789   \n",
       "275   7.384610   5.411646   6.760415          4.574711      5.940171   \n",
       "299   6.779922   7.630947   5.579730          5.673323      5.560682   \n",
       "327   6.802395   7.417580   6.028279          4.488636      6.259581   \n",
       "352   7.009409   7.335634   6.722630          4.510860      5.278115   \n",
       "355   6.590301   7.607381   5.505332          5.220356      4.852030   \n",
       "\n",
       "         Total  \n",
       "47   12.168968  \n",
       "61   12.019032  \n",
       "85   12.205532  \n",
       "86   11.921705  \n",
       "97    7.677400  \n",
       "98    7.814803  \n",
       "131   8.224432  \n",
       "154   6.807935  \n",
       "181  12.155674  \n",
       "183  12.131802  \n",
       "275   8.256088  \n",
       "299   8.342125  \n",
       "327   8.326033  \n",
       "352   8.380915  \n",
       "355   8.156510  "
      ]
     },
     "metadata": {},
     "output_type": "display_data"
    },
    {
     "data": {
      "text/plain": [
       "[38,\n",
       " 47,\n",
       " 57,\n",
       " 61,\n",
       " 65,\n",
       " 66,\n",
       " 75,\n",
       " 75,\n",
       " 85,\n",
       " 86,\n",
       " 86,\n",
       " 97,\n",
       " 98,\n",
       " 98,\n",
       " 109,\n",
       " 128,\n",
       " 131,\n",
       " 137,\n",
       " 142,\n",
       " 145,\n",
       " 154,\n",
       " 154,\n",
       " 154,\n",
       " 154,\n",
       " 161,\n",
       " 175,\n",
       " 181,\n",
       " 183,\n",
       " 183,\n",
       " 184,\n",
       " 187,\n",
       " 203,\n",
       " 233,\n",
       " 264,\n",
       " 275,\n",
       " 285,\n",
       " 289,\n",
       " 299,\n",
       " 325,\n",
       " 327,\n",
       " 343,\n",
       " 352,\n",
       " 355,\n",
       " 356,\n",
       " 420,\n",
       " 429,\n",
       " 439]"
      ]
     },
     "execution_count": 29,
     "metadata": {},
     "output_type": "execute_result"
    }
   ],
   "source": [
    "# For each feature find the data points with extreme high or low values\n",
    "outliers  = []\n",
    "for feature in log_data.keys():\n",
    "    \n",
    "    # TODO: Calculate Q1 (25th percentile of the data) for the given feature\n",
    "    Q1 = np.percentile(log_data[feature], q=25)\n",
    "    \n",
    "    # TODO: Calculate Q3 (75th percentile of the data) for the given feature\n",
    "    Q3 = np.percentile(log_data[feature], q=75)\n",
    "    \n",
    "    # TODO: Use the interquartile range to calculate an outlier step (1.5 times the interquartile range)\n",
    "    step = 1.5*(Q3 - Q1)\n",
    "    \n",
    "    # Display the outliers\n",
    "    print(\"Data points considered outliers for the feature '{}':\".format(feature))\n",
    "    p=(log_data[~((log_data[feature] >= Q1 - step) & (log_data[feature] <= Q3 + step))])\n",
    "    display(p)\n",
    "    for i in p.index.tolist():\n",
    "        outliers.append(i)\n",
    "outliers.sort()\n",
    "outliers"
   ]
  },
  {
   "cell_type": "code",
   "execution_count": null,
   "metadata": {},
   "outputs": [],
   "source": [
    "dublicates=[]\n",
    "for i in outliers:\n"
   ]
  },
  {
   "cell_type": "code",
   "execution_count": 126,
   "metadata": {},
   "outputs": [],
   "source": [
    "# Remove the outliers, if any were specified\n",
    "good_data = log_data.drop(log_data.index[outliers]).reset_index(drop = True)"
   ]
  },
  {
   "cell_type": "markdown",
   "metadata": {},
   "source": [
    "### Question 4\n",
    "* Are there any data points considered outliers for more than one feature based on the definition above? \n",
    "* Should these data points be removed from the dataset? \n",
    "* If any data points were added to the `outliers` list to be removed, explain why.\n",
    "\n",
    "** Hint: ** If you have datapoints that are outliers in multiple categories think about why that may be and if they warrant removal. Also note how k-means is affected by outliers and whether or not this plays a factor in your analysis of whether or not to remove them."
   ]
  },
  {
   "cell_type": "markdown",
   "metadata": {},
   "source": [
    "**Answer:**"
   ]
  },
  {
   "cell_type": "markdown",
   "metadata": {},
   "source": [
    "## Feature Transformation\n",
    "In this section you will use principal component analysis (PCA) to draw conclusions about the underlying structure of the wholesale customer data. Since using PCA on a dataset calculates the dimensions which best maximize variance, we will find which compound combinations of features best describe customers."
   ]
  },
  {
   "cell_type": "markdown",
   "metadata": {},
   "source": [
    "### Implementation: PCA\n",
    "\n",
    "Now that the data has been scaled to a more normal distribution and has had any necessary outliers removed, we can now apply PCA to the `good_data` to discover which dimensions about the data best maximize the variance of features involved. In addition to finding these dimensions, PCA will also report the *explained variance ratio* of each dimension — how much variance within the data is explained by that dimension alone. Note that a component (dimension) from PCA can be considered a new \"feature\" of the space, however it is a composition of the original features present in the data.\n",
    "\n",
    "In the code block below, you will need to implement the following:\n",
    " - Import `sklearn.decomposition.PCA` and assign the results of fitting PCA in six dimensions with `good_data` to `pca`.\n",
    " - Apply a PCA transformation of `log_samples` using `pca.transform`, and assign the results to `pca_samples`."
   ]
  },
  {
   "cell_type": "code",
   "execution_count": null,
   "metadata": {
    "collapsed": true
   },
   "outputs": [],
   "source": [
    "# TODO: Apply PCA by fitting the good data with the same number of dimensions as features\n",
    "pca = None\n",
    "\n",
    "# TODO: Transform log_samples using the PCA fit above\n",
    "pca_samples = None\n",
    "\n",
    "# Generate PCA results plot\n",
    "pca_results = vs.pca_results(good_data, pca)"
   ]
  },
  {
   "cell_type": "markdown",
   "metadata": {},
   "source": [
    "### Question 5\n",
    "\n",
    "* How much variance in the data is explained* **in total** *by the first and second principal component? \n",
    "* How much variance in the data is explained by the first four principal components? \n",
    "* Using the visualization provided above, talk about each dimension and the cumulative variance explained by each, stressing upon which features are well represented by each dimension(both in terms of positive and negative variance explained). Discuss what the first four dimensions best represent in terms of customer spending.\n",
    "\n",
    "**Hint:** A positive increase in a specific dimension corresponds with an *increase* of the *positive-weighted* features and a *decrease* of the *negative-weighted* features. The rate of increase or decrease is based on the individual feature weights."
   ]
  },
  {
   "cell_type": "markdown",
   "metadata": {},
   "source": [
    "**Answer:**"
   ]
  },
  {
   "cell_type": "markdown",
   "metadata": {},
   "source": [
    "### Observation\n",
    "Run the code below to see how the log-transformed sample data has changed after having a PCA transformation applied to it in six dimensions. Observe the numerical value for the first four dimensions of the sample points. Consider if this is consistent with your initial interpretation of the sample points."
   ]
  },
  {
   "cell_type": "code",
   "execution_count": null,
   "metadata": {
    "collapsed": true
   },
   "outputs": [],
   "source": [
    "# Display sample log-data after having a PCA transformation applied\n",
    "display(pd.DataFrame(np.round(pca_samples, 4), columns = pca_results.index.values))"
   ]
  },
  {
   "cell_type": "markdown",
   "metadata": {},
   "source": [
    "### Implementation: Dimensionality Reduction\n",
    "When using principal component analysis, one of the main goals is to reduce the dimensionality of the data — in effect, reducing the complexity of the problem. Dimensionality reduction comes at a cost: Fewer dimensions used implies less of the total variance in the data is being explained. Because of this, the *cumulative explained variance ratio* is extremely important for knowing how many dimensions are necessary for the problem. Additionally, if a signifiant amount of variance is explained by only two or three dimensions, the reduced data can be visualized afterwards.\n",
    "\n",
    "In the code block below, you will need to implement the following:\n",
    " - Assign the results of fitting PCA in two dimensions with `good_data` to `pca`.\n",
    " - Apply a PCA transformation of `good_data` using `pca.transform`, and assign the results to `reduced_data`.\n",
    " - Apply a PCA transformation of `log_samples` using `pca.transform`, and assign the results to `pca_samples`."
   ]
  },
  {
   "cell_type": "code",
   "execution_count": null,
   "metadata": {
    "collapsed": true
   },
   "outputs": [],
   "source": [
    "# TODO: Apply PCA by fitting the good data with only two dimensions\n",
    "pca = None\n",
    "\n",
    "# TODO: Transform the good data using the PCA fit above\n",
    "reduced_data = None\n",
    "\n",
    "# TODO: Transform log_samples using the PCA fit above\n",
    "pca_samples = None\n",
    "\n",
    "# Create a DataFrame for the reduced data\n",
    "reduced_data = pd.DataFrame(reduced_data, columns = ['Dimension 1', 'Dimension 2'])"
   ]
  },
  {
   "cell_type": "markdown",
   "metadata": {},
   "source": [
    "### Observation\n",
    "Run the code below to see how the log-transformed sample data has changed after having a PCA transformation applied to it using only two dimensions. Observe how the values for the first two dimensions remains unchanged when compared to a PCA transformation in six dimensions."
   ]
  },
  {
   "cell_type": "code",
   "execution_count": null,
   "metadata": {
    "collapsed": true
   },
   "outputs": [],
   "source": [
    "# Display sample log-data after applying PCA transformation in two dimensions\n",
    "display(pd.DataFrame(np.round(pca_samples, 4), columns = ['Dimension 1', 'Dimension 2']))"
   ]
  },
  {
   "cell_type": "markdown",
   "metadata": {},
   "source": [
    "## Visualizing a Biplot\n",
    "A biplot is a scatterplot where each data point is represented by its scores along the principal components. The axes are the principal components (in this case `Dimension 1` and `Dimension 2`). In addition, the biplot shows the projection of the original features along the components. A biplot can help us interpret the reduced dimensions of the data, and discover relationships between the principal components and original features.\n",
    "\n",
    "Run the code cell below to produce a biplot of the reduced-dimension data."
   ]
  },
  {
   "cell_type": "code",
   "execution_count": null,
   "metadata": {
    "collapsed": true
   },
   "outputs": [],
   "source": [
    "# Create a biplot\n",
    "vs.biplot(good_data, reduced_data, pca)"
   ]
  },
  {
   "cell_type": "markdown",
   "metadata": {},
   "source": [
    "### Observation\n",
    "\n",
    "Once we have the original feature projections (in red), it is easier to interpret the relative position of each data point in the scatterplot. For instance, a point the lower right corner of the figure will likely correspond to a customer that spends a lot on `'Milk'`, `'Grocery'` and `'Detergents_Paper'`, but not so much on the other product categories. \n",
    "\n",
    "From the biplot, which of the original features are most strongly correlated with the first component? What about those that are associated with the second component? Do these observations agree with the pca_results plot you obtained earlier?"
   ]
  },
  {
   "cell_type": "markdown",
   "metadata": {},
   "source": [
    "## Clustering\n",
    "\n",
    "In this section, you will choose to use either a K-Means clustering algorithm or a Gaussian Mixture Model clustering algorithm to identify the various customer segments hidden in the data. You will then recover specific data points from the clusters to understand their significance by transforming them back into their original dimension and scale. "
   ]
  },
  {
   "cell_type": "markdown",
   "metadata": {},
   "source": [
    "### Question 6\n",
    "\n",
    "* What are the advantages to using a K-Means clustering algorithm? \n",
    "* What are the advantages to using a Gaussian Mixture Model clustering algorithm? \n",
    "* Given your observations about the wholesale customer data so far, which of the two algorithms will you use and why?\n",
    "\n",
    "** Hint: ** Think about the differences between hard clustering and soft clustering and which would be appropriate for our dataset."
   ]
  },
  {
   "cell_type": "markdown",
   "metadata": {},
   "source": [
    "**Answer:**"
   ]
  },
  {
   "cell_type": "markdown",
   "metadata": {},
   "source": [
    "### Implementation: Creating Clusters\n",
    "Depending on the problem, the number of clusters that you expect to be in the data may already be known. When the number of clusters is not known *a priori*, there is no guarantee that a given number of clusters best segments the data, since it is unclear what structure exists in the data — if any. However, we can quantify the \"goodness\" of a clustering by calculating each data point's *silhouette coefficient*. The [silhouette coefficient](http://scikit-learn.org/stable/modules/generated/sklearn.metrics.silhouette_score.html) for a data point measures how similar it is to its assigned cluster from -1 (dissimilar) to 1 (similar). Calculating the *mean* silhouette coefficient provides for a simple scoring method of a given clustering.\n",
    "\n",
    "In the code block below, you will need to implement the following:\n",
    " - Fit a clustering algorithm to the `reduced_data` and assign it to `clusterer`.\n",
    " - Predict the cluster for each data point in `reduced_data` using `clusterer.predict` and assign them to `preds`.\n",
    " - Find the cluster centers using the algorithm's respective attribute and assign them to `centers`.\n",
    " - Predict the cluster for each sample data point in `pca_samples` and assign them `sample_preds`.\n",
    " - Import `sklearn.metrics.silhouette_score` and calculate the silhouette score of `reduced_data` against `preds`.\n",
    "   - Assign the silhouette score to `score` and print the result."
   ]
  },
  {
   "cell_type": "code",
   "execution_count": null,
   "metadata": {
    "collapsed": true
   },
   "outputs": [],
   "source": [
    "# TODO: Apply your clustering algorithm of choice to the reduced data \n",
    "clusterer = None\n",
    "\n",
    "# TODO: Predict the cluster for each data point\n",
    "preds = None\n",
    "\n",
    "# TODO: Find the cluster centers\n",
    "centers = None\n",
    "\n",
    "# TODO: Predict the cluster for each transformed sample data point\n",
    "sample_preds = None\n",
    "\n",
    "# TODO: Calculate the mean silhouette coefficient for the number of clusters chosen\n",
    "score = None"
   ]
  },
  {
   "cell_type": "markdown",
   "metadata": {},
   "source": [
    "### Question 7\n",
    "\n",
    "* Report the silhouette score for several cluster numbers you tried. \n",
    "* Of these, which number of clusters has the best silhouette score?"
   ]
  },
  {
   "cell_type": "markdown",
   "metadata": {},
   "source": [
    "**Answer:**"
   ]
  },
  {
   "cell_type": "markdown",
   "metadata": {},
   "source": [
    "### Cluster Visualization\n",
    "Once you've chosen the optimal number of clusters for your clustering algorithm using the scoring metric above, you can now visualize the results by executing the code block below. Note that, for experimentation purposes, you are welcome to adjust the number of clusters for your clustering algorithm to see various visualizations. The final visualization provided should, however, correspond with the optimal number of clusters. "
   ]
  },
  {
   "cell_type": "code",
   "execution_count": null,
   "metadata": {
    "collapsed": true
   },
   "outputs": [],
   "source": [
    "# Display the results of the clustering from implementation\n",
    "vs.cluster_results(reduced_data, preds, centers, pca_samples)"
   ]
  },
  {
   "cell_type": "markdown",
   "metadata": {},
   "source": [
    "### Implementation: Data Recovery\n",
    "Each cluster present in the visualization above has a central point. These centers (or means) are not specifically data points from the data, but rather the *averages* of all the data points predicted in the respective clusters. For the problem of creating customer segments, a cluster's center point corresponds to *the average customer of that segment*. Since the data is currently reduced in dimension and scaled by a logarithm, we can recover the representative customer spending from these data points by applying the inverse transformations.\n",
    "\n",
    "In the code block below, you will need to implement the following:\n",
    " - Apply the inverse transform to `centers` using `pca.inverse_transform` and assign the new centers to `log_centers`.\n",
    " - Apply the inverse function of `np.log` to `log_centers` using `np.exp` and assign the true centers to `true_centers`.\n"
   ]
  },
  {
   "cell_type": "code",
   "execution_count": null,
   "metadata": {
    "collapsed": true
   },
   "outputs": [],
   "source": [
    "# TODO: Inverse transform the centers\n",
    "log_centers = None\n",
    "\n",
    "# TODO: Exponentiate the centers\n",
    "true_centers = None\n",
    "\n",
    "# Display the true centers\n",
    "segments = ['Segment {}'.format(i) for i in range(0,len(centers))]\n",
    "true_centers = pd.DataFrame(np.round(true_centers), columns = data.keys())\n",
    "true_centers.index = segments\n",
    "display(true_centers)"
   ]
  },
  {
   "cell_type": "markdown",
   "metadata": {},
   "source": [
    "### Question 8\n",
    "\n",
    "* Consider the total purchase cost of each product category for the representative data points above, and reference the statistical description of the dataset at the beginning of this project(specifically looking at the mean values for the various feature points). What set of establishments could each of the customer segments represent?\n",
    "\n",
    "**Hint:** A customer who is assigned to `'Cluster X'` should best identify with the establishments represented by the feature set of `'Segment X'`. Think about what each segment represents in terms their values for the feature points chosen. Reference these values with the mean values to get some perspective into what kind of establishment they represent."
   ]
  },
  {
   "cell_type": "markdown",
   "metadata": {},
   "source": [
    "**Answer:**"
   ]
  },
  {
   "cell_type": "markdown",
   "metadata": {},
   "source": [
    "### Question 9\n",
    "\n",
    "* For each sample point, which customer segment from* **Question 8** *best represents it? \n",
    "* Are the predictions for each sample point consistent with this?*\n",
    "\n",
    "Run the code block below to find which cluster each sample point is predicted to be."
   ]
  },
  {
   "cell_type": "code",
   "execution_count": null,
   "metadata": {
    "collapsed": true
   },
   "outputs": [],
   "source": [
    "# Display the predictions\n",
    "for i, pred in enumerate(sample_preds):\n",
    "    print(\"Sample point\", i, \"predicted to be in Cluster\", pred)"
   ]
  },
  {
   "cell_type": "markdown",
   "metadata": {},
   "source": [
    "**Answer:**"
   ]
  },
  {
   "cell_type": "markdown",
   "metadata": {},
   "source": [
    "## Conclusion"
   ]
  },
  {
   "cell_type": "markdown",
   "metadata": {},
   "source": [
    "In this final section, you will investigate ways that you can make use of the clustered data. First, you will consider how the different groups of customers, the ***customer segments***, may be affected differently by a specific delivery scheme. Next, you will consider how giving a label to each customer (which *segment* that customer belongs to) can provide for additional features about the customer data. Finally, you will compare the ***customer segments*** to a hidden variable present in the data, to see whether the clustering identified certain relationships."
   ]
  },
  {
   "cell_type": "markdown",
   "metadata": {
    "collapsed": true
   },
   "source": [
    "### Question 10\n",
    "Companies will often run [A/B tests](https://en.wikipedia.org/wiki/A/B_testing) when making small changes to their products or services to determine whether making that change will affect its customers positively or negatively. The wholesale distributor is considering changing its delivery service from currently 5 days a week to 3 days a week. However, the distributor will only make this change in delivery service for customers that react positively. \n",
    "\n",
    "* How can the wholesale distributor use the customer segments to determine which customers, if any, would react positively to the change in delivery service?*\n",
    "\n",
    "**Hint:** Can we assume the change affects all customers equally? How can we determine which group of customers it affects the most?"
   ]
  },
  {
   "cell_type": "markdown",
   "metadata": {},
   "source": [
    "**Answer:**"
   ]
  },
  {
   "cell_type": "markdown",
   "metadata": {},
   "source": [
    "### Question 11\n",
    "Additional structure is derived from originally unlabeled data when using clustering techniques. Since each customer has a ***customer segment*** it best identifies with (depending on the clustering algorithm applied), we can consider *'customer segment'* as an **engineered feature** for the data. Assume the wholesale distributor recently acquired ten new customers and each provided estimates for anticipated annual spending of each product category. Knowing these estimates, the wholesale distributor wants to classify each new customer to a ***customer segment*** to determine the most appropriate delivery service.  \n",
    "* How can the wholesale distributor label the new customers using only their estimated product spending and the **customer segment** data?\n",
    "\n",
    "**Hint:** A supervised learner could be used to train on the original customers. What would be the target variable?"
   ]
  },
  {
   "cell_type": "markdown",
   "metadata": {},
   "source": [
    "**Answer:**"
   ]
  },
  {
   "cell_type": "markdown",
   "metadata": {},
   "source": [
    "### Visualizing Underlying Distributions\n",
    "\n",
    "At the beginning of this project, it was discussed that the `'Channel'` and `'Region'` features would be excluded from the dataset so that the customer product categories were emphasized in the analysis. By reintroducing the `'Channel'` feature to the dataset, an interesting structure emerges when considering the same PCA dimensionality reduction applied earlier to the original dataset.\n",
    "\n",
    "Run the code block below to see how each data point is labeled either `'HoReCa'` (Hotel/Restaurant/Cafe) or `'Retail'` the reduced space. In addition, you will find the sample points are circled in the plot, which will identify their labeling."
   ]
  },
  {
   "cell_type": "code",
   "execution_count": null,
   "metadata": {
    "collapsed": true,
    "scrolled": false
   },
   "outputs": [],
   "source": [
    "# Display the clustering results based on 'Channel' data\n",
    "vs.channel_results(reduced_data, outliers, pca_samples)"
   ]
  },
  {
   "cell_type": "markdown",
   "metadata": {},
   "source": [
    "### Question 12\n",
    "\n",
    "* How well does the clustering algorithm and number of clusters you've chosen compare to this underlying distribution of Hotel/Restaurant/Cafe customers to Retailer customers? \n",
    "* Are there customer segments that would be classified as purely 'Retailers' or 'Hotels/Restaurants/Cafes' by this distribution? \n",
    "* Would you consider these classifications as consistent with your previous definition of the customer segments?"
   ]
  },
  {
   "cell_type": "markdown",
   "metadata": {},
   "source": [
    "**Answer:**"
   ]
  },
  {
   "cell_type": "markdown",
   "metadata": {},
   "source": [
    "> **Note**: Once you have completed all of the code implementations and successfully answered each question above, you may finalize your work by exporting the iPython Notebook as an HTML document. You can do this by using the menu above and navigating to  \n",
    "**File -> Download as -> HTML (.html)**. Include the finished document along with this notebook as your submission."
   ]
  }
 ],
 "metadata": {
  "kernelspec": {
   "display_name": "Python 3 (ipykernel)",
   "language": "python",
   "name": "python3"
  },
  "language_info": {
   "codemirror_mode": {
    "name": "ipython",
    "version": 3
   },
   "file_extension": ".py",
   "mimetype": "text/x-python",
   "name": "python",
   "nbconvert_exporter": "python",
   "pygments_lexer": "ipython3",
   "version": "3.9.12"
  }
 },
 "nbformat": 4,
 "nbformat_minor": 1
}
